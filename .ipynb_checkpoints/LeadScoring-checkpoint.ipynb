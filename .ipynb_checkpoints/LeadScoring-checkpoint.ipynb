{
 "cells": [
  {
   "cell_type": "markdown",
   "id": "1faa62ee",
   "metadata": {},
   "source": [
    "# Lead Scoring Case Study"
   ]
  },
  {
   "cell_type": "markdown",
   "id": "b3860ee4",
   "metadata": {},
   "source": [
    "## <strong><span style=\"color:red\">Step 1: Importing Libraries and Data</span></strong>"
   ]
  },
  {
   "cell_type": "markdown",
   "id": "fe134a87",
   "metadata": {},
   "source": [
    "### 1.1 Import Libraries, Suppress Warnings and Set Display"
   ]
  },
  {
   "cell_type": "code",
   "execution_count": 1,
   "id": "a853d0a8",
   "metadata": {},
   "outputs": [],
   "source": [
    "# Import required libraries\n",
    "import pandas as pd\n",
    "import numpy as np\n",
    "import matplotlib.pyplot as plt\n",
    "import seaborn as sns\n",
    "\n",
    "# Suppress warnings\n",
    "import warnings\n",
    "warnings.filterwarnings(\"ignore\")\n",
    "\n",
    "# Import Scikit-learn libraries\n",
    "from sklearn.model_selection import train_test_split\n",
    "from sklearn.preprocessing import StandardScaler, MinMaxScaler\n",
    "from sklearn import metrics, linear_model\n",
    "from sklearn.feature_selection import RFE\n",
    "from sklearn.metrics import precision_score, recall_score, precision_recall_curve, f1_score\n",
    "\n",
    "# Import statsmodel libraries\n",
    "from statsmodels.stats.outliers_influence import variance_inflation_factor\n",
    "import statsmodels.api as sm\n"
   ]
  },
  {
   "cell_type": "code",
   "execution_count": 2,
   "id": "0115b0bc",
   "metadata": {},
   "outputs": [],
   "source": [
    "# Environment settings\n",
    "import pandas as pd\n",
    "\n",
    "pd.set_option(\"display.max_columns\", None)  # Display all columns\n",
    "pd.set_option(\"display.max_rows\", None)     # Display all rows\n",
    "pd.set_option('display.width', None)        # Remove width limit for column display\n",
    "pd.set_option('display.float_format', lambda x: '%.4f' % x)"
   ]
  },
  {
   "cell_type": "markdown",
   "id": "8c9e2087",
   "metadata": {},
   "source": [
    "###  1.2 Reading the Data"
   ]
  },
  {
   "cell_type": "code",
   "execution_count": 3,
   "id": "a9e6e257",
   "metadata": {},
   "outputs": [],
   "source": [
    "#Data Set Retrieval\n",
    "df_leads = pd.read_csv(\"Leads.csv\")"
   ]
  },
  {
   "cell_type": "code",
   "execution_count": 4,
   "id": "204456cf",
   "metadata": {},
   "outputs": [
    {
     "data": {
      "text/html": [
       "<div>\n",
       "<style scoped>\n",
       "    .dataframe tbody tr th:only-of-type {\n",
       "        vertical-align: middle;\n",
       "    }\n",
       "\n",
       "    .dataframe tbody tr th {\n",
       "        vertical-align: top;\n",
       "    }\n",
       "\n",
       "    .dataframe thead th {\n",
       "        text-align: right;\n",
       "    }\n",
       "</style>\n",
       "<table border=\"1\" class=\"dataframe\">\n",
       "  <thead>\n",
       "    <tr style=\"text-align: right;\">\n",
       "      <th></th>\n",
       "      <th>Prospect ID</th>\n",
       "      <th>Lead Number</th>\n",
       "      <th>Lead Origin</th>\n",
       "      <th>Lead Source</th>\n",
       "      <th>Do Not Email</th>\n",
       "      <th>Do Not Call</th>\n",
       "      <th>Converted</th>\n",
       "      <th>TotalVisits</th>\n",
       "      <th>Total Time Spent on Website</th>\n",
       "      <th>Page Views Per Visit</th>\n",
       "      <th>Last Activity</th>\n",
       "      <th>Country</th>\n",
       "      <th>Specialization</th>\n",
       "      <th>How did you hear about X Education</th>\n",
       "      <th>What is your current occupation</th>\n",
       "      <th>What matters most to you in choosing a course</th>\n",
       "      <th>Search</th>\n",
       "      <th>Magazine</th>\n",
       "      <th>Newspaper Article</th>\n",
       "      <th>X Education Forums</th>\n",
       "      <th>Newspaper</th>\n",
       "      <th>Digital Advertisement</th>\n",
       "      <th>Through Recommendations</th>\n",
       "      <th>Receive More Updates About Our Courses</th>\n",
       "      <th>Tags</th>\n",
       "      <th>Lead Quality</th>\n",
       "      <th>Update me on Supply Chain Content</th>\n",
       "      <th>Get updates on DM Content</th>\n",
       "      <th>Lead Profile</th>\n",
       "      <th>City</th>\n",
       "      <th>Asymmetrique Activity Index</th>\n",
       "      <th>Asymmetrique Profile Index</th>\n",
       "      <th>Asymmetrique Activity Score</th>\n",
       "      <th>Asymmetrique Profile Score</th>\n",
       "      <th>I agree to pay the amount through cheque</th>\n",
       "      <th>A free copy of Mastering The Interview</th>\n",
       "      <th>Last Notable Activity</th>\n",
       "    </tr>\n",
       "  </thead>\n",
       "  <tbody>\n",
       "    <tr>\n",
       "      <th>0</th>\n",
       "      <td>7927b2df-8bba-4d29-b9a2-b6e0beafe620</td>\n",
       "      <td>660737</td>\n",
       "      <td>API</td>\n",
       "      <td>Olark Chat</td>\n",
       "      <td>No</td>\n",
       "      <td>No</td>\n",
       "      <td>0</td>\n",
       "      <td>0.0000</td>\n",
       "      <td>0</td>\n",
       "      <td>0.0000</td>\n",
       "      <td>Page Visited on Website</td>\n",
       "      <td>NaN</td>\n",
       "      <td>Select</td>\n",
       "      <td>Select</td>\n",
       "      <td>Unemployed</td>\n",
       "      <td>Better Career Prospects</td>\n",
       "      <td>No</td>\n",
       "      <td>No</td>\n",
       "      <td>No</td>\n",
       "      <td>No</td>\n",
       "      <td>No</td>\n",
       "      <td>No</td>\n",
       "      <td>No</td>\n",
       "      <td>No</td>\n",
       "      <td>Interested in other courses</td>\n",
       "      <td>Low in Relevance</td>\n",
       "      <td>No</td>\n",
       "      <td>No</td>\n",
       "      <td>Select</td>\n",
       "      <td>Select</td>\n",
       "      <td>02.Medium</td>\n",
       "      <td>02.Medium</td>\n",
       "      <td>15.0000</td>\n",
       "      <td>15.0000</td>\n",
       "      <td>No</td>\n",
       "      <td>No</td>\n",
       "      <td>Modified</td>\n",
       "    </tr>\n",
       "    <tr>\n",
       "      <th>1</th>\n",
       "      <td>2a272436-5132-4136-86fa-dcc88c88f482</td>\n",
       "      <td>660728</td>\n",
       "      <td>API</td>\n",
       "      <td>Organic Search</td>\n",
       "      <td>No</td>\n",
       "      <td>No</td>\n",
       "      <td>0</td>\n",
       "      <td>5.0000</td>\n",
       "      <td>674</td>\n",
       "      <td>2.5000</td>\n",
       "      <td>Email Opened</td>\n",
       "      <td>India</td>\n",
       "      <td>Select</td>\n",
       "      <td>Select</td>\n",
       "      <td>Unemployed</td>\n",
       "      <td>Better Career Prospects</td>\n",
       "      <td>No</td>\n",
       "      <td>No</td>\n",
       "      <td>No</td>\n",
       "      <td>No</td>\n",
       "      <td>No</td>\n",
       "      <td>No</td>\n",
       "      <td>No</td>\n",
       "      <td>No</td>\n",
       "      <td>Ringing</td>\n",
       "      <td>NaN</td>\n",
       "      <td>No</td>\n",
       "      <td>No</td>\n",
       "      <td>Select</td>\n",
       "      <td>Select</td>\n",
       "      <td>02.Medium</td>\n",
       "      <td>02.Medium</td>\n",
       "      <td>15.0000</td>\n",
       "      <td>15.0000</td>\n",
       "      <td>No</td>\n",
       "      <td>No</td>\n",
       "      <td>Email Opened</td>\n",
       "    </tr>\n",
       "    <tr>\n",
       "      <th>2</th>\n",
       "      <td>8cc8c611-a219-4f35-ad23-fdfd2656bd8a</td>\n",
       "      <td>660727</td>\n",
       "      <td>Landing Page Submission</td>\n",
       "      <td>Direct Traffic</td>\n",
       "      <td>No</td>\n",
       "      <td>No</td>\n",
       "      <td>1</td>\n",
       "      <td>2.0000</td>\n",
       "      <td>1532</td>\n",
       "      <td>2.0000</td>\n",
       "      <td>Email Opened</td>\n",
       "      <td>India</td>\n",
       "      <td>Business Administration</td>\n",
       "      <td>Select</td>\n",
       "      <td>Student</td>\n",
       "      <td>Better Career Prospects</td>\n",
       "      <td>No</td>\n",
       "      <td>No</td>\n",
       "      <td>No</td>\n",
       "      <td>No</td>\n",
       "      <td>No</td>\n",
       "      <td>No</td>\n",
       "      <td>No</td>\n",
       "      <td>No</td>\n",
       "      <td>Will revert after reading the email</td>\n",
       "      <td>Might be</td>\n",
       "      <td>No</td>\n",
       "      <td>No</td>\n",
       "      <td>Potential Lead</td>\n",
       "      <td>Mumbai</td>\n",
       "      <td>02.Medium</td>\n",
       "      <td>01.High</td>\n",
       "      <td>14.0000</td>\n",
       "      <td>20.0000</td>\n",
       "      <td>No</td>\n",
       "      <td>Yes</td>\n",
       "      <td>Email Opened</td>\n",
       "    </tr>\n",
       "    <tr>\n",
       "      <th>3</th>\n",
       "      <td>0cc2df48-7cf4-4e39-9de9-19797f9b38cc</td>\n",
       "      <td>660719</td>\n",
       "      <td>Landing Page Submission</td>\n",
       "      <td>Direct Traffic</td>\n",
       "      <td>No</td>\n",
       "      <td>No</td>\n",
       "      <td>0</td>\n",
       "      <td>1.0000</td>\n",
       "      <td>305</td>\n",
       "      <td>1.0000</td>\n",
       "      <td>Unreachable</td>\n",
       "      <td>India</td>\n",
       "      <td>Media and Advertising</td>\n",
       "      <td>Word Of Mouth</td>\n",
       "      <td>Unemployed</td>\n",
       "      <td>Better Career Prospects</td>\n",
       "      <td>No</td>\n",
       "      <td>No</td>\n",
       "      <td>No</td>\n",
       "      <td>No</td>\n",
       "      <td>No</td>\n",
       "      <td>No</td>\n",
       "      <td>No</td>\n",
       "      <td>No</td>\n",
       "      <td>Ringing</td>\n",
       "      <td>Not Sure</td>\n",
       "      <td>No</td>\n",
       "      <td>No</td>\n",
       "      <td>Select</td>\n",
       "      <td>Mumbai</td>\n",
       "      <td>02.Medium</td>\n",
       "      <td>01.High</td>\n",
       "      <td>13.0000</td>\n",
       "      <td>17.0000</td>\n",
       "      <td>No</td>\n",
       "      <td>No</td>\n",
       "      <td>Modified</td>\n",
       "    </tr>\n",
       "    <tr>\n",
       "      <th>4</th>\n",
       "      <td>3256f628-e534-4826-9d63-4a8b88782852</td>\n",
       "      <td>660681</td>\n",
       "      <td>Landing Page Submission</td>\n",
       "      <td>Google</td>\n",
       "      <td>No</td>\n",
       "      <td>No</td>\n",
       "      <td>1</td>\n",
       "      <td>2.0000</td>\n",
       "      <td>1428</td>\n",
       "      <td>1.0000</td>\n",
       "      <td>Converted to Lead</td>\n",
       "      <td>India</td>\n",
       "      <td>Select</td>\n",
       "      <td>Other</td>\n",
       "      <td>Unemployed</td>\n",
       "      <td>Better Career Prospects</td>\n",
       "      <td>No</td>\n",
       "      <td>No</td>\n",
       "      <td>No</td>\n",
       "      <td>No</td>\n",
       "      <td>No</td>\n",
       "      <td>No</td>\n",
       "      <td>No</td>\n",
       "      <td>No</td>\n",
       "      <td>Will revert after reading the email</td>\n",
       "      <td>Might be</td>\n",
       "      <td>No</td>\n",
       "      <td>No</td>\n",
       "      <td>Select</td>\n",
       "      <td>Mumbai</td>\n",
       "      <td>02.Medium</td>\n",
       "      <td>01.High</td>\n",
       "      <td>15.0000</td>\n",
       "      <td>18.0000</td>\n",
       "      <td>No</td>\n",
       "      <td>No</td>\n",
       "      <td>Modified</td>\n",
       "    </tr>\n",
       "  </tbody>\n",
       "</table>\n",
       "</div>"
      ],
      "text/plain": [
       "                            Prospect ID  Lead Number              Lead Origin  \\\n",
       "0  7927b2df-8bba-4d29-b9a2-b6e0beafe620       660737                      API   \n",
       "1  2a272436-5132-4136-86fa-dcc88c88f482       660728                      API   \n",
       "2  8cc8c611-a219-4f35-ad23-fdfd2656bd8a       660727  Landing Page Submission   \n",
       "3  0cc2df48-7cf4-4e39-9de9-19797f9b38cc       660719  Landing Page Submission   \n",
       "4  3256f628-e534-4826-9d63-4a8b88782852       660681  Landing Page Submission   \n",
       "\n",
       "      Lead Source Do Not Email Do Not Call  Converted  TotalVisits  \\\n",
       "0      Olark Chat           No          No          0       0.0000   \n",
       "1  Organic Search           No          No          0       5.0000   \n",
       "2  Direct Traffic           No          No          1       2.0000   \n",
       "3  Direct Traffic           No          No          0       1.0000   \n",
       "4          Google           No          No          1       2.0000   \n",
       "\n",
       "   Total Time Spent on Website  Page Views Per Visit            Last Activity  \\\n",
       "0                            0                0.0000  Page Visited on Website   \n",
       "1                          674                2.5000             Email Opened   \n",
       "2                         1532                2.0000             Email Opened   \n",
       "3                          305                1.0000              Unreachable   \n",
       "4                         1428                1.0000        Converted to Lead   \n",
       "\n",
       "  Country           Specialization How did you hear about X Education  \\\n",
       "0     NaN                   Select                             Select   \n",
       "1   India                   Select                             Select   \n",
       "2   India  Business Administration                             Select   \n",
       "3   India    Media and Advertising                      Word Of Mouth   \n",
       "4   India                   Select                              Other   \n",
       "\n",
       "  What is your current occupation  \\\n",
       "0                      Unemployed   \n",
       "1                      Unemployed   \n",
       "2                         Student   \n",
       "3                      Unemployed   \n",
       "4                      Unemployed   \n",
       "\n",
       "  What matters most to you in choosing a course Search Magazine  \\\n",
       "0                       Better Career Prospects     No       No   \n",
       "1                       Better Career Prospects     No       No   \n",
       "2                       Better Career Prospects     No       No   \n",
       "3                       Better Career Prospects     No       No   \n",
       "4                       Better Career Prospects     No       No   \n",
       "\n",
       "  Newspaper Article X Education Forums Newspaper Digital Advertisement  \\\n",
       "0                No                 No        No                    No   \n",
       "1                No                 No        No                    No   \n",
       "2                No                 No        No                    No   \n",
       "3                No                 No        No                    No   \n",
       "4                No                 No        No                    No   \n",
       "\n",
       "  Through Recommendations Receive More Updates About Our Courses  \\\n",
       "0                      No                                     No   \n",
       "1                      No                                     No   \n",
       "2                      No                                     No   \n",
       "3                      No                                     No   \n",
       "4                      No                                     No   \n",
       "\n",
       "                                  Tags      Lead Quality  \\\n",
       "0          Interested in other courses  Low in Relevance   \n",
       "1                              Ringing               NaN   \n",
       "2  Will revert after reading the email          Might be   \n",
       "3                              Ringing          Not Sure   \n",
       "4  Will revert after reading the email          Might be   \n",
       "\n",
       "  Update me on Supply Chain Content Get updates on DM Content    Lead Profile  \\\n",
       "0                                No                        No          Select   \n",
       "1                                No                        No          Select   \n",
       "2                                No                        No  Potential Lead   \n",
       "3                                No                        No          Select   \n",
       "4                                No                        No          Select   \n",
       "\n",
       "     City Asymmetrique Activity Index Asymmetrique Profile Index  \\\n",
       "0  Select                   02.Medium                  02.Medium   \n",
       "1  Select                   02.Medium                  02.Medium   \n",
       "2  Mumbai                   02.Medium                    01.High   \n",
       "3  Mumbai                   02.Medium                    01.High   \n",
       "4  Mumbai                   02.Medium                    01.High   \n",
       "\n",
       "   Asymmetrique Activity Score  Asymmetrique Profile Score  \\\n",
       "0                      15.0000                     15.0000   \n",
       "1                      15.0000                     15.0000   \n",
       "2                      14.0000                     20.0000   \n",
       "3                      13.0000                     17.0000   \n",
       "4                      15.0000                     18.0000   \n",
       "\n",
       "  I agree to pay the amount through cheque  \\\n",
       "0                                       No   \n",
       "1                                       No   \n",
       "2                                       No   \n",
       "3                                       No   \n",
       "4                                       No   \n",
       "\n",
       "  A free copy of Mastering The Interview Last Notable Activity  \n",
       "0                                     No              Modified  \n",
       "1                                     No          Email Opened  \n",
       "2                                    Yes          Email Opened  \n",
       "3                                     No              Modified  \n",
       "4                                     No              Modified  "
      ]
     },
     "execution_count": 4,
     "metadata": {},
     "output_type": "execute_result"
    }
   ],
   "source": [
    "df_leads.head()"
   ]
  },
  {
   "cell_type": "code",
   "execution_count": 5,
   "id": "965e2ce4",
   "metadata": {},
   "outputs": [
    {
     "data": {
      "text/plain": [
       "(9240, 37)"
      ]
     },
     "execution_count": 5,
     "metadata": {},
     "output_type": "execute_result"
    }
   ],
   "source": [
    "df_leads.shape"
   ]
  },
  {
   "cell_type": "markdown",
   "id": "6cf09dfc",
   "metadata": {},
   "source": [
    "<strong><span style=\"color:red\">Important Note:</span></strong> The original dataframe contains 9240 rows and 37 columns."
   ]
  },
  {
   "cell_type": "markdown",
   "id": "44128f17",
   "metadata": {},
   "source": [
    "## <strong><span style=\"color:red\">Step 2: Analyzing and Examining the Data</span></strong>"
   ]
  },
  {
   "cell_type": "code",
   "execution_count": 6,
   "id": "61f67290",
   "metadata": {},
   "outputs": [
    {
     "data": {
      "text/html": [
       "<div>\n",
       "<style scoped>\n",
       "    .dataframe tbody tr th:only-of-type {\n",
       "        vertical-align: middle;\n",
       "    }\n",
       "\n",
       "    .dataframe tbody tr th {\n",
       "        vertical-align: top;\n",
       "    }\n",
       "\n",
       "    .dataframe thead th {\n",
       "        text-align: right;\n",
       "    }\n",
       "</style>\n",
       "<table border=\"1\" class=\"dataframe\">\n",
       "  <thead>\n",
       "    <tr style=\"text-align: right;\">\n",
       "      <th></th>\n",
       "      <th>Lead Number</th>\n",
       "      <th>Converted</th>\n",
       "      <th>TotalVisits</th>\n",
       "      <th>Total Time Spent on Website</th>\n",
       "      <th>Page Views Per Visit</th>\n",
       "      <th>Asymmetrique Activity Score</th>\n",
       "      <th>Asymmetrique Profile Score</th>\n",
       "    </tr>\n",
       "  </thead>\n",
       "  <tbody>\n",
       "    <tr>\n",
       "      <th>count</th>\n",
       "      <td>9240.0000</td>\n",
       "      <td>9240.0000</td>\n",
       "      <td>9103.0000</td>\n",
       "      <td>9240.0000</td>\n",
       "      <td>9103.0000</td>\n",
       "      <td>5022.0000</td>\n",
       "      <td>5022.0000</td>\n",
       "    </tr>\n",
       "    <tr>\n",
       "      <th>mean</th>\n",
       "      <td>617188.4356</td>\n",
       "      <td>0.3854</td>\n",
       "      <td>3.4452</td>\n",
       "      <td>487.6983</td>\n",
       "      <td>2.3628</td>\n",
       "      <td>14.3063</td>\n",
       "      <td>16.3449</td>\n",
       "    </tr>\n",
       "    <tr>\n",
       "      <th>std</th>\n",
       "      <td>23405.9957</td>\n",
       "      <td>0.4867</td>\n",
       "      <td>4.8549</td>\n",
       "      <td>548.0215</td>\n",
       "      <td>2.1614</td>\n",
       "      <td>1.3867</td>\n",
       "      <td>1.8114</td>\n",
       "    </tr>\n",
       "    <tr>\n",
       "      <th>min</th>\n",
       "      <td>579533.0000</td>\n",
       "      <td>0.0000</td>\n",
       "      <td>0.0000</td>\n",
       "      <td>0.0000</td>\n",
       "      <td>0.0000</td>\n",
       "      <td>7.0000</td>\n",
       "      <td>11.0000</td>\n",
       "    </tr>\n",
       "    <tr>\n",
       "      <th>25%</th>\n",
       "      <td>596484.5000</td>\n",
       "      <td>0.0000</td>\n",
       "      <td>1.0000</td>\n",
       "      <td>12.0000</td>\n",
       "      <td>1.0000</td>\n",
       "      <td>14.0000</td>\n",
       "      <td>15.0000</td>\n",
       "    </tr>\n",
       "    <tr>\n",
       "      <th>50%</th>\n",
       "      <td>615479.0000</td>\n",
       "      <td>0.0000</td>\n",
       "      <td>3.0000</td>\n",
       "      <td>248.0000</td>\n",
       "      <td>2.0000</td>\n",
       "      <td>14.0000</td>\n",
       "      <td>16.0000</td>\n",
       "    </tr>\n",
       "    <tr>\n",
       "      <th>75%</th>\n",
       "      <td>637387.2500</td>\n",
       "      <td>1.0000</td>\n",
       "      <td>5.0000</td>\n",
       "      <td>936.0000</td>\n",
       "      <td>3.0000</td>\n",
       "      <td>15.0000</td>\n",
       "      <td>18.0000</td>\n",
       "    </tr>\n",
       "    <tr>\n",
       "      <th>max</th>\n",
       "      <td>660737.0000</td>\n",
       "      <td>1.0000</td>\n",
       "      <td>251.0000</td>\n",
       "      <td>2272.0000</td>\n",
       "      <td>55.0000</td>\n",
       "      <td>18.0000</td>\n",
       "      <td>20.0000</td>\n",
       "    </tr>\n",
       "  </tbody>\n",
       "</table>\n",
       "</div>"
      ],
      "text/plain": [
       "       Lead Number  Converted  TotalVisits  Total Time Spent on Website  \\\n",
       "count    9240.0000  9240.0000    9103.0000                    9240.0000   \n",
       "mean   617188.4356     0.3854       3.4452                     487.6983   \n",
       "std     23405.9957     0.4867       4.8549                     548.0215   \n",
       "min    579533.0000     0.0000       0.0000                       0.0000   \n",
       "25%    596484.5000     0.0000       1.0000                      12.0000   \n",
       "50%    615479.0000     0.0000       3.0000                     248.0000   \n",
       "75%    637387.2500     1.0000       5.0000                     936.0000   \n",
       "max    660737.0000     1.0000     251.0000                    2272.0000   \n",
       "\n",
       "       Page Views Per Visit  Asymmetrique Activity Score  \\\n",
       "count             9103.0000                    5022.0000   \n",
       "mean                 2.3628                      14.3063   \n",
       "std                  2.1614                       1.3867   \n",
       "min                  0.0000                       7.0000   \n",
       "25%                  1.0000                      14.0000   \n",
       "50%                  2.0000                      14.0000   \n",
       "75%                  3.0000                      15.0000   \n",
       "max                 55.0000                      18.0000   \n",
       "\n",
       "       Asymmetrique Profile Score  \n",
       "count                   5022.0000  \n",
       "mean                      16.3449  \n",
       "std                        1.8114  \n",
       "min                       11.0000  \n",
       "25%                       15.0000  \n",
       "50%                       16.0000  \n",
       "75%                       18.0000  \n",
       "max                       20.0000  "
      ]
     },
     "execution_count": 6,
     "metadata": {},
     "output_type": "execute_result"
    }
   ],
   "source": [
    "#Examine the summary statistics of all numerical columns to gain a better understanding of the dataset's distribution and identify any anomalies.\n",
    "df_leads.describe()"
   ]
  },
  {
   "cell_type": "code",
   "execution_count": 7,
   "id": "7e2c5498",
   "metadata": {},
   "outputs": [
    {
     "data": {
      "text/plain": [
       "Prospect ID                                      9240\n",
       "Lead Number                                      9240\n",
       "Lead Origin                                         5\n",
       "Lead Source                                        21\n",
       "Do Not Email                                        2\n",
       "Do Not Call                                         2\n",
       "Converted                                           2\n",
       "TotalVisits                                        41\n",
       "Total Time Spent on Website                      1731\n",
       "Page Views Per Visit                              114\n",
       "Last Activity                                      17\n",
       "Country                                            38\n",
       "Specialization                                     19\n",
       "How did you hear about X Education                 10\n",
       "What is your current occupation                     6\n",
       "What matters most to you in choosing a course       3\n",
       "Search                                              2\n",
       "Magazine                                            1\n",
       "Newspaper Article                                   2\n",
       "X Education Forums                                  2\n",
       "Newspaper                                           2\n",
       "Digital Advertisement                               2\n",
       "Through Recommendations                             2\n",
       "Receive More Updates About Our Courses              1\n",
       "Tags                                               26\n",
       "Lead Quality                                        5\n",
       "Update me on Supply Chain Content                   1\n",
       "Get updates on DM Content                           1\n",
       "Lead Profile                                        6\n",
       "City                                                7\n",
       "Asymmetrique Activity Index                         3\n",
       "Asymmetrique Profile Index                          3\n",
       "Asymmetrique Activity Score                        12\n",
       "Asymmetrique Profile Score                         10\n",
       "I agree to pay the amount through cheque            1\n",
       "A free copy of Mastering The Interview              2\n",
       "Last Notable Activity                              16\n",
       "dtype: int64"
      ]
     },
     "execution_count": 7,
     "metadata": {},
     "output_type": "execute_result"
    }
   ],
   "source": [
    "#Determining the count of unique values in each column\n",
    "df_leads.nunique()"
   ]
  },
  {
   "cell_type": "code",
   "execution_count": 8,
   "id": "c2be239c",
   "metadata": {},
   "outputs": [
    {
     "name": "stdout",
     "output_type": "stream",
     "text": [
      "<class 'pandas.core.frame.DataFrame'>\n",
      "RangeIndex: 9240 entries, 0 to 9239\n",
      "Data columns (total 37 columns):\n",
      " #   Column                                         Non-Null Count  Dtype  \n",
      "---  ------                                         --------------  -----  \n",
      " 0   Prospect ID                                    9240 non-null   object \n",
      " 1   Lead Number                                    9240 non-null   int64  \n",
      " 2   Lead Origin                                    9240 non-null   object \n",
      " 3   Lead Source                                    9204 non-null   object \n",
      " 4   Do Not Email                                   9240 non-null   object \n",
      " 5   Do Not Call                                    9240 non-null   object \n",
      " 6   Converted                                      9240 non-null   int64  \n",
      " 7   TotalVisits                                    9103 non-null   float64\n",
      " 8   Total Time Spent on Website                    9240 non-null   int64  \n",
      " 9   Page Views Per Visit                           9103 non-null   float64\n",
      " 10  Last Activity                                  9137 non-null   object \n",
      " 11  Country                                        6779 non-null   object \n",
      " 12  Specialization                                 7802 non-null   object \n",
      " 13  How did you hear about X Education             7033 non-null   object \n",
      " 14  What is your current occupation                6550 non-null   object \n",
      " 15  What matters most to you in choosing a course  6531 non-null   object \n",
      " 16  Search                                         9240 non-null   object \n",
      " 17  Magazine                                       9240 non-null   object \n",
      " 18  Newspaper Article                              9240 non-null   object \n",
      " 19  X Education Forums                             9240 non-null   object \n",
      " 20  Newspaper                                      9240 non-null   object \n",
      " 21  Digital Advertisement                          9240 non-null   object \n",
      " 22  Through Recommendations                        9240 non-null   object \n",
      " 23  Receive More Updates About Our Courses         9240 non-null   object \n",
      " 24  Tags                                           5887 non-null   object \n",
      " 25  Lead Quality                                   4473 non-null   object \n",
      " 26  Update me on Supply Chain Content              9240 non-null   object \n",
      " 27  Get updates on DM Content                      9240 non-null   object \n",
      " 28  Lead Profile                                   6531 non-null   object \n",
      " 29  City                                           7820 non-null   object \n",
      " 30  Asymmetrique Activity Index                    5022 non-null   object \n",
      " 31  Asymmetrique Profile Index                     5022 non-null   object \n",
      " 32  Asymmetrique Activity Score                    5022 non-null   float64\n",
      " 33  Asymmetrique Profile Score                     5022 non-null   float64\n",
      " 34  I agree to pay the amount through cheque       9240 non-null   object \n",
      " 35  A free copy of Mastering The Interview         9240 non-null   object \n",
      " 36  Last Notable Activity                          9240 non-null   object \n",
      "dtypes: float64(4), int64(3), object(30)\n",
      "memory usage: 2.6+ MB\n"
     ]
    }
   ],
   "source": [
    "# Verify column data types and the presence of null values\n",
    "df_leads.info()"
   ]
  },
  {
   "cell_type": "code",
   "execution_count": 9,
   "id": "5f5b0cc6",
   "metadata": {},
   "outputs": [
    {
     "data": {
      "text/plain": [
       "Prospect ID                                         0\n",
       "Lead Number                                         0\n",
       "Lead Origin                                         0\n",
       "Lead Source                                        36\n",
       "Do Not Email                                        0\n",
       "Do Not Call                                         0\n",
       "Converted                                           0\n",
       "TotalVisits                                       137\n",
       "Total Time Spent on Website                         0\n",
       "Page Views Per Visit                              137\n",
       "Last Activity                                     103\n",
       "Country                                          2461\n",
       "Specialization                                   1438\n",
       "How did you hear about X Education               2207\n",
       "What is your current occupation                  2690\n",
       "What matters most to you in choosing a course    2709\n",
       "Search                                              0\n",
       "Magazine                                            0\n",
       "Newspaper Article                                   0\n",
       "X Education Forums                                  0\n",
       "Newspaper                                           0\n",
       "Digital Advertisement                               0\n",
       "Through Recommendations                             0\n",
       "Receive More Updates About Our Courses              0\n",
       "Tags                                             3353\n",
       "Lead Quality                                     4767\n",
       "Update me on Supply Chain Content                   0\n",
       "Get updates on DM Content                           0\n",
       "Lead Profile                                     2709\n",
       "City                                             1420\n",
       "Asymmetrique Activity Index                      4218\n",
       "Asymmetrique Profile Index                       4218\n",
       "Asymmetrique Activity Score                      4218\n",
       "Asymmetrique Profile Score                       4218\n",
       "I agree to pay the amount through cheque            0\n",
       "A free copy of Mastering The Interview              0\n",
       "Last Notable Activity                               0\n",
       "dtype: int64"
      ]
     },
     "execution_count": 9,
     "metadata": {},
     "output_type": "execute_result"
    }
   ],
   "source": [
    "# Assessing the count of missing values in each column\n",
    "df_leads.isnull().sum()"
   ]
  },
  {
   "cell_type": "markdown",
   "id": "0e8a93ec",
   "metadata": {},
   "source": [
    "\n",
    "<strong><span style=\"color:red\">Important Note:</span></strong> Some columns in the dataframe contain a significant number of missing or null values. Decisions regarding how to handle these missing values will be made during the data cleaning and imputation phase."
   ]
  },
  {
   "cell_type": "code",
   "execution_count": 10,
   "id": "053f4bdf",
   "metadata": {},
   "outputs": [
    {
     "name": "stdout",
     "output_type": "stream",
     "text": [
      "0\n"
     ]
    }
   ],
   "source": [
    "# Examine duplicate rows in the dataset\n",
    "print(df_leads.duplicated().sum())"
   ]
  },
  {
   "cell_type": "markdown",
   "id": "3dfe0b29",
   "metadata": {},
   "source": [
    "\n",
    "<strong><span style=\"color:red\">Important Note:</span></strong> The dataframe \"df_leads\" does not contain any duplicate rows."
   ]
  },
  {
   "cell_type": "markdown",
   "id": "76e9630a",
   "metadata": {},
   "source": [
    "## <strong><span style=\"color:red\">Step 3: Data Cleansing</span></strong>"
   ]
  },
  {
   "cell_type": "markdown",
   "id": "771b3529",
   "metadata": {},
   "source": [
    "### 3.1 Handling 'Select' Value Entries"
   ]
  },
  {
   "cell_type": "markdown",
   "id": "78abf9df",
   "metadata": {},
   "source": [
    "\n",
    "As indicated in the Problem Statement, numerous categorical variables contain a category labeled 'Select', and it requires special treatment because it essentially functions as a null value. This might be due to the fact that the customer did not make a selection from the list, resulting in the default 'Select' value for these columns."
   ]
  },
  {
   "cell_type": "code",
   "execution_count": 11,
   "id": "c8a31b58",
   "metadata": {},
   "outputs": [
    {
     "name": "stdout",
     "output_type": "stream",
     "text": [
      "['Specialization', 'How did you hear about X Education', 'Lead Profile', 'City']\n"
     ]
    }
   ],
   "source": [
    "# Identifying columns with the value 'Select'\n",
    "\n",
    "columns_with_select_value = [col for col in df_leads.columns if len(df_leads[col].isin(['Select']).unique()) > 1]\n",
    "print(columns_with_select_value)"
   ]
  },
  {
   "cell_type": "code",
   "execution_count": 12,
   "id": "a77f8537",
   "metadata": {},
   "outputs": [],
   "source": [
    "# Replacing 'Select' values with NaN\n",
    "df_leads = df_leads.replace('Select', np.nan)"
   ]
  },
  {
   "cell_type": "code",
   "execution_count": 13,
   "id": "f86cc5cc",
   "metadata": {},
   "outputs": [
    {
     "name": "stdout",
     "output_type": "stream",
     "text": [
      "[]\n"
     ]
    }
   ],
   "source": [
    "# Verify if all 'Select' values have been resolved in the columns\n",
    "remaining_select_columns = [col for col in df_leads.columns if len(df_leads[col].isin(['Select']).unique()) > 1]\n",
    "print(remaining_select_columns)"
   ]
  },
  {
   "cell_type": "markdown",
   "id": "d3400b45",
   "metadata": {},
   "source": [
    "<strong><span style=\"color:red\">Important Note:</span></strong> At this point, there are no more 'Select' values present in the dataframe df_leads."
   ]
  },
  {
   "cell_type": "markdown",
   "id": "17517e73",
   "metadata": {},
   "source": [
    "###  3.2 Dealing with Missing Values"
   ]
  },
  {
   "cell_type": "code",
   "execution_count": 14,
   "id": "3d7d9725",
   "metadata": {},
   "outputs": [
    {
     "data": {
      "text/plain": [
       "How did you hear about X Education              78.4632\n",
       "Lead Profile                                    74.1883\n",
       "Lead Quality                                    51.5909\n",
       "Asymmetrique Profile Score                      45.6494\n",
       "Asymmetrique Activity Score                     45.6494\n",
       "Asymmetrique Activity Index                     45.6494\n",
       "Asymmetrique Profile Index                      45.6494\n",
       "City                                            39.7078\n",
       "Specialization                                  36.5801\n",
       "Tags                                            36.2879\n",
       "What matters most to you in choosing a course   29.3182\n",
       "What is your current occupation                 29.1126\n",
       "Country                                         26.6342\n",
       "Page Views Per Visit                             1.4827\n",
       "TotalVisits                                      1.4827\n",
       "Last Activity                                    1.1147\n",
       "Lead Source                                      0.3896\n",
       "Receive More Updates About Our Courses           0.0000\n",
       "I agree to pay the amount through cheque         0.0000\n",
       "Get updates on DM Content                        0.0000\n",
       "Update me on Supply Chain Content                0.0000\n",
       "A free copy of Mastering The Interview           0.0000\n",
       "Prospect ID                                      0.0000\n",
       "Newspaper Article                                0.0000\n",
       "Through Recommendations                          0.0000\n",
       "Digital Advertisement                            0.0000\n",
       "Newspaper                                        0.0000\n",
       "X Education Forums                               0.0000\n",
       "Lead Number                                      0.0000\n",
       "Magazine                                         0.0000\n",
       "Search                                           0.0000\n",
       "Total Time Spent on Website                      0.0000\n",
       "Converted                                        0.0000\n",
       "Do Not Call                                      0.0000\n",
       "Do Not Email                                     0.0000\n",
       "Lead Origin                                      0.0000\n",
       "Last Notable Activity                            0.0000\n",
       "dtype: float64"
      ]
     },
     "execution_count": 14,
     "metadata": {},
     "output_type": "execute_result"
    }
   ],
   "source": [
    "# Computing the Percentage of Missing Values\n",
    "100*(df_leads.isna().mean()).sort_values(ascending=False)"
   ]
  },
  {
   "cell_type": "markdown",
   "id": "23bc91d8",
   "metadata": {},
   "source": [
    "### 3.2.1 Eliminate Columns with Over 40% Null Values"
   ]
  },
  {
   "cell_type": "code",
   "execution_count": 15,
   "id": "8cd28c10",
   "metadata": {},
   "outputs": [
    {
     "name": "stdout",
     "output_type": "stream",
     "text": [
      "Total columns dropped:  7 \n",
      "\n",
      "List of columns dropped:  ['How did you hear about X Education', 'Lead Profile', 'Lead Quality', 'Asymmetrique Profile Score', 'Asymmetrique Activity Score', 'Asymmetrique Activity Index', 'Asymmetrique Profile Index'] \n",
      "\n",
      "Shape before dropping columns:  (9240, 37)\n",
      "Shape after dropping columns:  (9240, 30)\n"
     ]
    }
   ],
   "source": [
    "# Function to drop columns with a specified percentage of missing values and display shape changes\n",
    "def dropNullColumns(data, percentage=40):\n",
    "    \n",
    "    # Calculate the percentage of missing values in each column and sort them\n",
    "    missing_perc = 100*(data.isna().mean()).sort_values(ascending=False)\n",
    "    \n",
    "    # Identify columns with missing values exceeding or equal to the specified percentage\n",
    "    col_to_drop = missing_perc[missing_perc >= percentage].index.to_list()\n",
    "    \n",
    "    # Print the number of dropped columns and the list of columns dropped\n",
    "    print(\"Total columns dropped: \", len(col_to_drop), \"\\n\")\n",
    "    print(\"List of columns dropped: \", col_to_drop, \"\\n\")\n",
    "    \n",
    "    # Display the shape of the dataframe before and after dropping columns\n",
    "    print(\"Shape before dropping columns: \", data.shape)\n",
    "    \n",
    "    # Drop the identified columns\n",
    "    data.drop(labels=col_to_drop, axis=1, inplace=True)\n",
    "    \n",
    "    # Display the updated shape of the dataframe\n",
    "    print(\"Shape after dropping columns: \", data.shape)\n",
    "\n",
    "# Dropping columns using the user-defined function:\n",
    "dropNullColumns(df_leads)"
   ]
  },
  {
   "cell_type": "code",
   "execution_count": 16,
   "id": "8f4cf2ac",
   "metadata": {},
   "outputs": [
    {
     "data": {
      "text/plain": [
       "City                                            39.7078\n",
       "Specialization                                  36.5801\n",
       "Tags                                            36.2879\n",
       "What matters most to you in choosing a course   29.3182\n",
       "What is your current occupation                 29.1126\n",
       "Country                                         26.6342\n",
       "Page Views Per Visit                             1.4827\n",
       "TotalVisits                                      1.4827\n",
       "Last Activity                                    1.1147\n",
       "Lead Source                                      0.3896\n",
       "Through Recommendations                          0.0000\n",
       "Receive More Updates About Our Courses           0.0000\n",
       "Prospect ID                                      0.0000\n",
       "Newspaper                                        0.0000\n",
       "Update me on Supply Chain Content                0.0000\n",
       "Get updates on DM Content                        0.0000\n",
       "I agree to pay the amount through cheque         0.0000\n",
       "A free copy of Mastering The Interview           0.0000\n",
       "Digital Advertisement                            0.0000\n",
       "Search                                           0.0000\n",
       "X Education Forums                               0.0000\n",
       "Newspaper Article                                0.0000\n",
       "Magazine                                         0.0000\n",
       "Lead Number                                      0.0000\n",
       "Total Time Spent on Website                      0.0000\n",
       "Converted                                        0.0000\n",
       "Do Not Call                                      0.0000\n",
       "Do Not Email                                     0.0000\n",
       "Lead Origin                                      0.0000\n",
       "Last Notable Activity                            0.0000\n",
       "dtype: float64"
      ]
     },
     "execution_count": 16,
     "metadata": {},
     "output_type": "execute_result"
    }
   ],
   "source": [
    "# Determine the percentage of missing values in the remaining columns and sort them in descending order: \n",
    "100*(df_leads.isna().mean()).sort_values(ascending=False)"
   ]
  },
  {
   "cell_type": "markdown",
   "id": "0c318943",
   "metadata": {},
   "source": [
    "### 3.2.2 Handling Columns with Categorical Data"
   ]
  },
  {
   "cell_type": "code",
   "execution_count": 17,
   "id": "b4f04868",
   "metadata": {},
   "outputs": [
    {
     "name": "stdout",
     "output_type": "stream",
     "text": [
      "['Prospect ID', 'Lead Origin', 'Lead Source', 'Do Not Email', 'Do Not Call', 'Last Activity', 'Country', 'Specialization', 'What is your current occupation', 'What matters most to you in choosing a course', 'Search', 'Magazine', 'Newspaper Article', 'X Education Forums', 'Newspaper', 'Digital Advertisement', 'Through Recommendations', 'Receive More Updates About Our Courses', 'Tags', 'Update me on Supply Chain Content', 'Get updates on DM Content', 'City', 'I agree to pay the amount through cheque', 'A free copy of Mastering The Interview', 'Last Notable Activity']\n"
     ]
    }
   ],
   "source": [
    "#Identify columns with non-numeric data type\n",
    "categorical_cols = df_leads.select_dtypes(include=['category', 'object']).columns.tolist()\n",
    "print(categorical_cols)"
   ]
  },
  {
   "cell_type": "markdown",
   "id": "5eedd274",
   "metadata": {},
   "source": [
    "<strong><span style=\"color:red\">Important Note:</span></strong> The approach involves examining the count of values in each categorical column to determine the appropriate treatment for missing values in that specific column."
   ]
  },
  {
   "cell_type": "code",
   "execution_count": 18,
   "id": "febdfeb9",
   "metadata": {},
   "outputs": [
    {
     "name": "stdout",
     "output_type": "stream",
     "text": [
      "Value Counts % for: City \n",
      "\n",
      "Mumbai                        57.8352\n",
      "Thane & Outskirts             13.4985\n",
      "Other Cities                  12.3138\n",
      "Other Cities of Maharashtra    8.2032\n",
      "Other Metro Cities             6.8210\n",
      "Tier II Cities                 1.3283\n",
      "Name: City, dtype: float64 \n",
      "\n",
      "________________________________________________________________________________________________________________________ \n",
      "\n",
      "Value Counts % for: Specialization \n",
      "\n",
      "Finance Management                  16.6553\n",
      "Human Resource Management           14.4710\n",
      "Marketing Management                14.3003\n",
      "Operations Management                8.5836\n",
      "Business Administration              6.8771\n",
      "IT Projects Management               6.2457\n",
      "Supply Chain Management              5.9556\n",
      "Banking, Investment And Insurance    5.7679\n",
      "Travel and Tourism                   3.4642\n",
      "Media and Advertising                3.4642\n",
      "International Business               3.0375\n",
      "Healthcare Management                2.7133\n",
      "Hospitality Management               1.9454\n",
      "E-COMMERCE                           1.9113\n",
      "Retail Management                    1.7065\n",
      "Rural and Agribusiness               1.2457\n",
      "E-Business                           0.9727\n",
      "Services Excellence                  0.6826\n",
      "Name: Specialization, dtype: float64 \n",
      "\n",
      "________________________________________________________________________________________________________________________ \n",
      "\n",
      "Value Counts % for: Tags \n",
      "\n",
      "Will revert after reading the email                 35.1962\n",
      "Ringing                                             20.4349\n",
      "Interested in other courses                          8.7141\n",
      "Already a student                                    7.8988\n",
      "Closed by Horizzon                                   6.0812\n",
      "switched off                                         4.0768\n",
      "Busy                                                 3.1595\n",
      "Lost to EINS                                         2.9727\n",
      "Not doing further education                          2.4631\n",
      "Interested  in full time MBA                         1.9874\n",
      "Graduation in progress                               1.8855\n",
      "invalid number                                       1.4099\n",
      "Diploma holder (Not Eligible)                        1.0702\n",
      "wrong number given                                   0.7984\n",
      "opp hangup                                           0.5606\n",
      "number not provided                                  0.4586\n",
      "in touch with EINS                                   0.2038\n",
      "Lost to Others                                       0.1189\n",
      "Still Thinking                                       0.1019\n",
      "Want to take admission but has financial problems    0.1019\n",
      "In confusion whether part time or DLP                0.0849\n",
      "Interested in Next batch                             0.0849\n",
      "Lateral student                                      0.0510\n",
      "Shall take in the next coming month                  0.0340\n",
      "University not recognized                            0.0340\n",
      "Recognition issue (DEC approval)                     0.0170\n",
      "Name: Tags, dtype: float64 \n",
      "\n",
      "________________________________________________________________________________________________________________________ \n",
      "\n",
      "Value Counts % for: What matters most to you in choosing a course \n",
      "\n",
      "Better Career Prospects     99.9541\n",
      "Flexibility & Convenience    0.0306\n",
      "Other                        0.0153\n",
      "Name: What matters most to you in choosing a course, dtype: float64 \n",
      "\n",
      "________________________________________________________________________________________________________________________ \n",
      "\n",
      "Value Counts % for: What is your current occupation \n",
      "\n",
      "Unemployed             85.4962\n",
      "Working Professional   10.7786\n",
      "Student                 3.2061\n",
      "Other                   0.2443\n",
      "Housewife               0.1527\n",
      "Businessman             0.1221\n",
      "Name: What is your current occupation, dtype: float64 \n",
      "\n",
      "________________________________________________________________________________________________________________________ \n",
      "\n",
      "Value Counts % for: Country \n",
      "\n",
      "India                  95.7663\n",
      "United States           1.0178\n",
      "United Arab Emirates    0.7818\n",
      "Singapore               0.3540\n",
      "Saudi Arabia            0.3098\n",
      "United Kingdom          0.2213\n",
      "Australia               0.1918\n",
      "Qatar                   0.1475\n",
      "Hong Kong               0.1033\n",
      "Bahrain                 0.1033\n",
      "Oman                    0.0885\n",
      "France                  0.0885\n",
      "unknown                 0.0738\n",
      "South Africa            0.0590\n",
      "Nigeria                 0.0590\n",
      "Germany                 0.0590\n",
      "Kuwait                  0.0590\n",
      "Canada                  0.0590\n",
      "Sweden                  0.0443\n",
      "China                   0.0295\n",
      "Asia/Pacific Region     0.0295\n",
      "Uganda                  0.0295\n",
      "Bangladesh              0.0295\n",
      "Italy                   0.0295\n",
      "Belgium                 0.0295\n",
      "Netherlands             0.0295\n",
      "Ghana                   0.0295\n",
      "Philippines             0.0295\n",
      "Russia                  0.0148\n",
      "Switzerland             0.0148\n",
      "Vietnam                 0.0148\n",
      "Denmark                 0.0148\n",
      "Tanzania                0.0148\n",
      "Liberia                 0.0148\n",
      "Malaysia                0.0148\n",
      "Kenya                   0.0148\n",
      "Sri Lanka               0.0148\n",
      "Indonesia               0.0148\n",
      "Name: Country, dtype: float64 \n",
      "\n",
      "________________________________________________________________________________________________________________________ \n",
      "\n",
      "Value Counts % for: Last Activity \n",
      "\n",
      "Email Opened                   37.6163\n",
      "SMS Sent                       30.0427\n",
      "Olark Chat Conversation        10.6490\n",
      "Page Visited on Website         7.0045\n",
      "Converted to Lead               4.6843\n",
      "Email Bounced                   3.5679\n",
      "Email Link Clicked              2.9222\n",
      "Form Submitted on Website       1.2696\n",
      "Unreachable                     1.0178\n",
      "Unsubscribed                    0.6676\n",
      "Had a Phone Conversation        0.3283\n",
      "Approached upfront              0.0985\n",
      "View in browser link Clicked    0.0657\n",
      "Email Received                  0.0219\n",
      "Email Marked Spam               0.0219\n",
      "Visited Booth in Tradeshow      0.0109\n",
      "Resubscribed to emails          0.0109\n",
      "Name: Last Activity, dtype: float64 \n",
      "\n",
      "________________________________________________________________________________________________________________________ \n",
      "\n",
      "Value Counts % for: Lead Source \n",
      "\n",
      "Google              31.1604\n",
      "Direct Traffic      27.6293\n",
      "Olark Chat          19.0678\n",
      "Organic Search      12.5380\n",
      "Reference            5.8018\n",
      "Welingak Website     1.5428\n",
      "Referral Sites       1.3581\n",
      "Facebook             0.5976\n",
      "bing                 0.0652\n",
      "google               0.0543\n",
      "Click2call           0.0435\n",
      "Press_Release        0.0217\n",
      "Social Media         0.0217\n",
      "Live Chat            0.0217\n",
      "youtubechannel       0.0109\n",
      "testone              0.0109\n",
      "Pay per Click Ads    0.0109\n",
      "welearnblog_Home     0.0109\n",
      "WeLearn              0.0109\n",
      "blog                 0.0109\n",
      "NC_EDM               0.0109\n",
      "Name: Lead Source, dtype: float64 \n",
      "\n",
      "________________________________________________________________________________________________________________________ \n",
      "\n"
     ]
    }
   ],
   "source": [
    "columnsList = [\"City\", \"Specialization\", \"Tags\", 'What matters most to you in choosing a course',\n",
    "              'What is your current occupation', 'Country', 'Last Activity', 'Lead Source']\n",
    "\n",
    "for column in columnsList:\n",
    "    value_counts_percentage = 100 * df_leads[column].value_counts(normalize=True)\n",
    "    print(\"Value Counts % for:\", column, \"\\n\")\n",
    "    print(value_counts_percentage, \"\\n\")\n",
    "    print(\"___\" * 40, \"\\n\")"
   ]
  },
  {
   "cell_type": "markdown",
   "id": "6a86fa6b",
   "metadata": {},
   "source": [
    "### Insights:\n",
    "\n",
    "<strong><span style=\"color:red\">City:</span></strong> The 'City' column has 39.71% missing values. Imputing missing values with 'Mumbai' would introduce skewness in the data, potentially leading to bias in the model. Therefore, it is advisable to drop the 'City' column.\n",
    "\n",
    "<strong><span style=\"color:red\">Specialization:</span></strong> 'Specialization' exhibits 36.58% missing values. Since the distribution of specializations is fairly even, imputation or dropping is not the best choice. Instead, a new category labeled 'Others' should be created.\n",
    "\n",
    "<strong><span style=\"color:red\">Tags:</span></strong> 'Tags' has 36.29% missing values. It represents the current status of the leads, but due to the high number of missing values, it will not be useful for modeling. Thus, it can be dropped.\n",
    "\n",
    "<strong><span style=\"color:red\">What matters most to you in choosing a course:</span></strong> This variable has 29.32% missing values, with 99.95% of customers selecting 'better career prospects'. It is highly skewed and unlikely to provide meaningful insights.\n",
    "\n",
    "<strong><span style=\"color:red\">What is your current occupation:</span></strong> Missing values can be imputed with 'Unemployed', which is the most common value. From a business perspective, this variable is important, as X Education offers online courses, and unemployed individuals may enroll to enhance their employability.\n",
    "\n",
    "<strong><span style=\"color:red\">Country:</span></strong> Approximately 96% of customers are from India, and imputing missing values with 'India' would not add significant value. Therefore, it is reasonable to drop the 'Country' column.\n",
    "\n",
    "<strong><span style=\"color:red\">Last Activity:</span></strong> \"Email Opened\" is the most frequent value, and the overall missing values in this column are just 1.11%. Therefore, missing values can be imputed with the label 'Email Opened'.\n",
    "\n",
    "<strong><span style=\"color:red\">Lead Source:</span></strong> \"Google\" is the most common lead source, and the overall nulls in this column account for just 0.39%. Therefore, missing values can be imputed with the label 'Google'."
   ]
  },
  {
   "cell_type": "markdown",
   "id": "dd230fc1",
   "metadata": {},
   "source": [
    "\n",
    "### Dropping the following columns:\n",
    "\n",
    "- 'City'\n",
    "- 'Tags'\n",
    "- 'Country'\n",
    "- 'What matters most to you in choosing a course'"
   ]
  },
  {
   "cell_type": "code",
   "execution_count": 19,
   "id": "0ea0ea89",
   "metadata": {},
   "outputs": [
    {
     "name": "stdout",
     "output_type": "stream",
     "text": [
      "Before Drop (9240, 30)\n",
      "After Drop (9240, 26)\n"
     ]
    }
   ],
   "source": [
    "# Eliminating Columns\n",
    "print(\"Before Drop\", df_leads.shape)\n",
    "df_leads.drop(['City', 'Tags', 'Country', 'What matters most to you in choosing a course'], axis=1, inplace=True)\n",
    "print(\"After Drop\", df_leads.shape)"
   ]
  },
  {
   "cell_type": "code",
   "execution_count": 20,
   "id": "5bef7d97",
   "metadata": {},
   "outputs": [],
   "source": [
    "# Imputing values based on the provided insights\n",
    "missing_values = {\n",
    "    'Specialization': 'Others',\n",
    "    'Lead Source': 'Google',\n",
    "    'Last Activity': 'Email Opened',\n",
    "    'What is your current occupation': 'Unemployed'\n",
    "}\n",
    "\n",
    "df_leads = df_leads.fillna(value=missing_values)\n"
   ]
  },
  {
   "cell_type": "code",
   "execution_count": 21,
   "id": "e11fdc7e",
   "metadata": {},
   "outputs": [
    {
     "data": {
      "text/plain": [
       "TotalVisits                                1.4800\n",
       "Page Views Per Visit                       1.4800\n",
       "Prospect ID                                0.0000\n",
       "Magazine                                   0.0000\n",
       "A free copy of Mastering The Interview     0.0000\n",
       "I agree to pay the amount through cheque   0.0000\n",
       "Get updates on DM Content                  0.0000\n",
       "Update me on Supply Chain Content          0.0000\n",
       "Receive More Updates About Our Courses     0.0000\n",
       "Through Recommendations                    0.0000\n",
       "Digital Advertisement                      0.0000\n",
       "Newspaper                                  0.0000\n",
       "X Education Forums                         0.0000\n",
       "Newspaper Article                          0.0000\n",
       "Search                                     0.0000\n",
       "Lead Number                                0.0000\n",
       "What is your current occupation            0.0000\n",
       "Specialization                             0.0000\n",
       "Last Activity                              0.0000\n",
       "Total Time Spent on Website                0.0000\n",
       "Converted                                  0.0000\n",
       "Do Not Call                                0.0000\n",
       "Do Not Email                               0.0000\n",
       "Lead Source                                0.0000\n",
       "Lead Origin                                0.0000\n",
       "Last Notable Activity                      0.0000\n",
       "dtype: float64"
      ]
     },
     "execution_count": 21,
     "metadata": {},
     "output_type": "execute_result"
    }
   ],
   "source": [
    "# Reevaluating the Percentage of Null Values in the Remaining Columns\n",
    "round(((df_leads.isnull().sum() / df_leads.shape[0]) * 100), 2).sort_values(ascending=False)"
   ]
  },
  {
   "cell_type": "markdown",
   "id": "5b69d5e6",
   "metadata": {},
   "source": [
    "### 3.2.3 Handling Columns with Numerical Data"
   ]
  },
  {
   "cell_type": "code",
   "execution_count": 22,
   "id": "6705c965",
   "metadata": {},
   "outputs": [
    {
     "name": "stdout",
     "output_type": "stream",
     "text": [
      "TotalVisits - Value Counts\n",
      "----------------------------------------\n"
     ]
    },
    {
     "data": {
      "text/plain": [
       "0.0000    2189\n",
       "2.0000    1680\n",
       "3.0000    1306\n",
       "4.0000    1120\n",
       "5.0000     783\n",
       "6.0000     466\n",
       "1.0000     395\n",
       "7.0000     309\n",
       "8.0000     224\n",
       "9.0000     164\n",
       "Name: TotalVisits, dtype: int64"
      ]
     },
     "execution_count": 22,
     "metadata": {},
     "output_type": "execute_result"
    }
   ],
   "source": [
    "#Print the top 10 value counts for the 'TotalVisits' column:\n",
    "print(\"TotalVisits - Value Counts\")\n",
    "print(\"----------------------------------------\")\n",
    "df_leads.TotalVisits.value_counts().head(10)"
   ]
  },
  {
   "cell_type": "markdown",
   "id": "26e5560a",
   "metadata": {},
   "source": [
    "\n",
    "<strong><span style=\"color:red\">Important Note:</span></strong> Missing values in the 'TotalVisits' column can be imputed with the mode."
   ]
  },
  {
   "cell_type": "code",
   "execution_count": 23,
   "id": "3ad86095",
   "metadata": {},
   "outputs": [],
   "source": [
    "# Imputing 'TotalVisits' Missing Values with Mode\n",
    "df_leads['TotalVisits'].fillna(df_leads['TotalVisits'].mode()[0], inplace=True)"
   ]
  },
  {
   "cell_type": "code",
   "execution_count": 24,
   "id": "0fa5ca25",
   "metadata": {},
   "outputs": [
    {
     "name": "stdout",
     "output_type": "stream",
     "text": [
      "Page Views Per Visit - Value Counts\n",
      "----------------------------------------\n"
     ]
    },
    {
     "data": {
      "text/plain": [
       "0.0000    2189\n",
       "2.0000    1795\n",
       "3.0000    1196\n",
       "4.0000     896\n",
       "1.0000     651\n",
       "5.0000     517\n",
       "1.5000     306\n",
       "6.0000     244\n",
       "2.5000     241\n",
       "7.0000     133\n",
       "Name: Page Views Per Visit, dtype: int64"
      ]
     },
     "execution_count": 24,
     "metadata": {},
     "output_type": "execute_result"
    }
   ],
   "source": [
    "# Print the top 10 value counts for the 'Page Views Per Visit' column:\n",
    "print(\"Page Views Per Visit - Value Counts\")\n",
    "print(\"----------------------------------------\")\n",
    "df_leads['Page Views Per Visit'].value_counts().head(10)"
   ]
  },
  {
   "cell_type": "markdown",
   "id": "7b5aba5b",
   "metadata": {},
   "source": [
    "<strong><span style=\"color:red\">Important Note:</span></strong> Addressing missing values in 'Page Views Per Visit' by imputing with the mode.\n"
   ]
  },
  {
   "cell_type": "code",
   "execution_count": 25,
   "id": "844c712c",
   "metadata": {},
   "outputs": [],
   "source": [
    "# Imputing missing values in 'Page Views Per Visit' with its mode.\n",
    "df_leads['Page Views Per Visit'].fillna(df_leads['Page Views Per Visit'].mode()[0], inplace=True)"
   ]
  },
  {
   "cell_type": "markdown",
   "id": "d6e4e843",
   "metadata": {},
   "source": [
    "### Re-assessing the null values for columns."
   ]
  },
  {
   "cell_type": "code",
   "execution_count": 26,
   "id": "019dc936",
   "metadata": {},
   "outputs": [
    {
     "data": {
      "text/plain": [
       "Prospect ID                                0.0000\n",
       "Lead Number                                0.0000\n",
       "A free copy of Mastering The Interview     0.0000\n",
       "I agree to pay the amount through cheque   0.0000\n",
       "Get updates on DM Content                  0.0000\n",
       "Update me on Supply Chain Content          0.0000\n",
       "Receive More Updates About Our Courses     0.0000\n",
       "Through Recommendations                    0.0000\n",
       "Digital Advertisement                      0.0000\n",
       "Newspaper                                  0.0000\n",
       "X Education Forums                         0.0000\n",
       "Newspaper Article                          0.0000\n",
       "Magazine                                   0.0000\n",
       "Search                                     0.0000\n",
       "What is your current occupation            0.0000\n",
       "Specialization                             0.0000\n",
       "Last Activity                              0.0000\n",
       "Page Views Per Visit                       0.0000\n",
       "Total Time Spent on Website                0.0000\n",
       "TotalVisits                                0.0000\n",
       "Converted                                  0.0000\n",
       "Do Not Call                                0.0000\n",
       "Do Not Email                               0.0000\n",
       "Lead Source                                0.0000\n",
       "Lead Origin                                0.0000\n",
       "Last Notable Activity                      0.0000\n",
       "dtype: float64"
      ]
     },
     "execution_count": 26,
     "metadata": {},
     "output_type": "execute_result"
    }
   ],
   "source": [
    "# Verifying the Percentage of Null Values After Handling Categorical and Numerical Columns\n",
    "round(((df_leads.isnull().sum() / df_leads.shape[0]) * 100), 2).sort_values(ascending=False)"
   ]
  },
  {
   "cell_type": "markdown",
   "id": "71977806",
   "metadata": {},
   "source": [
    "### 3.3 Removing Unnecessary Columns"
   ]
  },
  {
   "cell_type": "code",
   "execution_count": 27,
   "id": "10162ae8",
   "metadata": {},
   "outputs": [
    {
     "name": "stdout",
     "output_type": "stream",
     "text": [
      "Last Notable Activity\n",
      "----------------------------------------\n"
     ]
    },
    {
     "data": {
      "text/plain": [
       "Modified                       36.8723\n",
       "Email Opened                   30.5952\n",
       "SMS Sent                       23.5065\n",
       "Page Visited on Website         3.4416\n",
       "Olark Chat Conversation         1.9805\n",
       "Email Link Clicked              1.8723\n",
       "Email Bounced                   0.6494\n",
       "Unsubscribed                    0.5087\n",
       "Unreachable                     0.3463\n",
       "Had a Phone Conversation        0.1515\n",
       "Email Marked Spam               0.0216\n",
       "Approached upfront              0.0108\n",
       "Resubscribed to emails          0.0108\n",
       "View in browser link Clicked    0.0108\n",
       "Form Submitted on Website       0.0108\n",
       "Email Received                  0.0108\n",
       "Name: Last Notable Activity, dtype: float64"
      ]
     },
     "execution_count": 27,
     "metadata": {},
     "output_type": "execute_result"
    }
   ],
   "source": [
    "# Last Notable Activity - Percentage of Values\n",
    "print(\"Last Notable Activity\")\n",
    "print(\"----------------------------------------\")\n",
    "100 * df_leads['Last Notable Activity'].value_counts(normalize=True)"
   ]
  },
  {
   "cell_type": "markdown",
   "id": "57986d58",
   "metadata": {},
   "source": [
    "### 3.3.1 Managing Columns with a Sole Unique Value"
   ]
  },
  {
   "cell_type": "code",
   "execution_count": 28,
   "id": "99eecc43",
   "metadata": {},
   "outputs": [
    {
     "data": {
      "text/html": [
       "<div>\n",
       "<style scoped>\n",
       "    .dataframe tbody tr th:only-of-type {\n",
       "        vertical-align: middle;\n",
       "    }\n",
       "\n",
       "    .dataframe tbody tr th {\n",
       "        vertical-align: top;\n",
       "    }\n",
       "\n",
       "    .dataframe thead th {\n",
       "        text-align: right;\n",
       "    }\n",
       "</style>\n",
       "<table border=\"1\" class=\"dataframe\">\n",
       "  <thead>\n",
       "    <tr style=\"text-align: right;\">\n",
       "      <th></th>\n",
       "      <th>Prospect ID</th>\n",
       "      <th>Lead Origin</th>\n",
       "      <th>Lead Source</th>\n",
       "      <th>Do Not Email</th>\n",
       "      <th>Do Not Call</th>\n",
       "      <th>Last Activity</th>\n",
       "      <th>Specialization</th>\n",
       "      <th>What is your current occupation</th>\n",
       "      <th>Search</th>\n",
       "      <th>Magazine</th>\n",
       "      <th>Newspaper Article</th>\n",
       "      <th>X Education Forums</th>\n",
       "      <th>Newspaper</th>\n",
       "      <th>Digital Advertisement</th>\n",
       "      <th>Through Recommendations</th>\n",
       "      <th>Receive More Updates About Our Courses</th>\n",
       "      <th>Update me on Supply Chain Content</th>\n",
       "      <th>Get updates on DM Content</th>\n",
       "      <th>I agree to pay the amount through cheque</th>\n",
       "      <th>A free copy of Mastering The Interview</th>\n",
       "      <th>Last Notable Activity</th>\n",
       "    </tr>\n",
       "  </thead>\n",
       "  <tbody>\n",
       "    <tr>\n",
       "      <th>count</th>\n",
       "      <td>9240</td>\n",
       "      <td>9240</td>\n",
       "      <td>9240</td>\n",
       "      <td>9240</td>\n",
       "      <td>9240</td>\n",
       "      <td>9240</td>\n",
       "      <td>9240</td>\n",
       "      <td>9240</td>\n",
       "      <td>9240</td>\n",
       "      <td>9240</td>\n",
       "      <td>9240</td>\n",
       "      <td>9240</td>\n",
       "      <td>9240</td>\n",
       "      <td>9240</td>\n",
       "      <td>9240</td>\n",
       "      <td>9240</td>\n",
       "      <td>9240</td>\n",
       "      <td>9240</td>\n",
       "      <td>9240</td>\n",
       "      <td>9240</td>\n",
       "      <td>9240</td>\n",
       "    </tr>\n",
       "    <tr>\n",
       "      <th>unique</th>\n",
       "      <td>9240</td>\n",
       "      <td>5</td>\n",
       "      <td>21</td>\n",
       "      <td>2</td>\n",
       "      <td>2</td>\n",
       "      <td>17</td>\n",
       "      <td>19</td>\n",
       "      <td>6</td>\n",
       "      <td>2</td>\n",
       "      <td>1</td>\n",
       "      <td>2</td>\n",
       "      <td>2</td>\n",
       "      <td>2</td>\n",
       "      <td>2</td>\n",
       "      <td>2</td>\n",
       "      <td>1</td>\n",
       "      <td>1</td>\n",
       "      <td>1</td>\n",
       "      <td>1</td>\n",
       "      <td>2</td>\n",
       "      <td>16</td>\n",
       "    </tr>\n",
       "    <tr>\n",
       "      <th>top</th>\n",
       "      <td>7927b2df-8bba-4d29-b9a2-b6e0beafe620</td>\n",
       "      <td>Landing Page Submission</td>\n",
       "      <td>Google</td>\n",
       "      <td>No</td>\n",
       "      <td>No</td>\n",
       "      <td>Email Opened</td>\n",
       "      <td>Others</td>\n",
       "      <td>Unemployed</td>\n",
       "      <td>No</td>\n",
       "      <td>No</td>\n",
       "      <td>No</td>\n",
       "      <td>No</td>\n",
       "      <td>No</td>\n",
       "      <td>No</td>\n",
       "      <td>No</td>\n",
       "      <td>No</td>\n",
       "      <td>No</td>\n",
       "      <td>No</td>\n",
       "      <td>No</td>\n",
       "      <td>No</td>\n",
       "      <td>Modified</td>\n",
       "    </tr>\n",
       "    <tr>\n",
       "      <th>freq</th>\n",
       "      <td>1</td>\n",
       "      <td>4886</td>\n",
       "      <td>2904</td>\n",
       "      <td>8506</td>\n",
       "      <td>9238</td>\n",
       "      <td>3540</td>\n",
       "      <td>3380</td>\n",
       "      <td>8290</td>\n",
       "      <td>9226</td>\n",
       "      <td>9240</td>\n",
       "      <td>9238</td>\n",
       "      <td>9239</td>\n",
       "      <td>9239</td>\n",
       "      <td>9236</td>\n",
       "      <td>9233</td>\n",
       "      <td>9240</td>\n",
       "      <td>9240</td>\n",
       "      <td>9240</td>\n",
       "      <td>9240</td>\n",
       "      <td>6352</td>\n",
       "      <td>3407</td>\n",
       "    </tr>\n",
       "  </tbody>\n",
       "</table>\n",
       "</div>"
      ],
      "text/plain": [
       "                                 Prospect ID              Lead Origin  \\\n",
       "count                                   9240                     9240   \n",
       "unique                                  9240                        5   \n",
       "top     7927b2df-8bba-4d29-b9a2-b6e0beafe620  Landing Page Submission   \n",
       "freq                                       1                     4886   \n",
       "\n",
       "       Lead Source Do Not Email Do Not Call Last Activity Specialization  \\\n",
       "count         9240         9240        9240          9240           9240   \n",
       "unique          21            2           2            17             19   \n",
       "top         Google           No          No  Email Opened         Others   \n",
       "freq          2904         8506        9238          3540           3380   \n",
       "\n",
       "       What is your current occupation Search Magazine Newspaper Article  \\\n",
       "count                             9240   9240     9240              9240   \n",
       "unique                               6      2        1                 2   \n",
       "top                         Unemployed     No       No                No   \n",
       "freq                              8290   9226     9240              9238   \n",
       "\n",
       "       X Education Forums Newspaper Digital Advertisement  \\\n",
       "count                9240      9240                  9240   \n",
       "unique                  2         2                     2   \n",
       "top                    No        No                    No   \n",
       "freq                 9239      9239                  9236   \n",
       "\n",
       "       Through Recommendations Receive More Updates About Our Courses  \\\n",
       "count                     9240                                   9240   \n",
       "unique                       2                                      1   \n",
       "top                         No                                     No   \n",
       "freq                      9233                                   9240   \n",
       "\n",
       "       Update me on Supply Chain Content Get updates on DM Content  \\\n",
       "count                               9240                      9240   \n",
       "unique                                 1                         1   \n",
       "top                                   No                        No   \n",
       "freq                                9240                      9240   \n",
       "\n",
       "       I agree to pay the amount through cheque  \\\n",
       "count                                      9240   \n",
       "unique                                        1   \n",
       "top                                          No   \n",
       "freq                                       9240   \n",
       "\n",
       "       A free copy of Mastering The Interview Last Notable Activity  \n",
       "count                                    9240                  9240  \n",
       "unique                                      2                    16  \n",
       "top                                        No              Modified  \n",
       "freq                                     6352                  3407  "
      ]
     },
     "execution_count": 28,
     "metadata": {},
     "output_type": "execute_result"
    }
   ],
   "source": [
    "# Inspect columns with only one unique value, where count and frequency are identical.\n",
    "df_leads.describe(include='object')"
   ]
  },
  {
   "cell_type": "markdown",
   "id": "d8f857ee",
   "metadata": {},
   "source": [
    "<strong><span style=\"color:red\">Important Note:</span></strong> The following columns contain only one unique value and are of no use as they have only one category of response from customers. Therefore, these columns can be safely <strong><span style=\"color:red\">dropped</span></strong>:\n",
    "\n",
    "- 'I agree to pay the amount through cheque'\n",
    "- 'Get updates on DM Content'\n",
    "- 'Update me on Supply Chain Content'\n",
    "- 'Receive More Updates About Our Courses'\n",
    "- 'Magazine'"
   ]
  },
  {
   "cell_type": "code",
   "execution_count": 29,
   "id": "697e8067",
   "metadata": {},
   "outputs": [
    {
     "name": "stdout",
     "output_type": "stream",
     "text": [
      "Before Dropping Columns (9240, 26)\n",
      "After Dropping Columns (9240, 21)\n"
     ]
    }
   ],
   "source": [
    "# List of columns with one unique value whose count and frequency are the same; these columns will be dropped\n",
    "cols_to_drop = ['Magazine', 'Receive More Updates About Our Courses',\n",
    "                'Update me on Supply Chain Content', 'Get updates on DM Content',\n",
    "                'I agree to pay the amount through cheque']\n",
    "\n",
    "print(\"Before Dropping Columns\", df_leads.shape)\n",
    "df_leads.drop(cols_to_drop, axis=1, inplace=True)\n",
    "print(\"After Dropping Columns\", df_leads.shape)\n"
   ]
  },
  {
   "cell_type": "markdown",
   "id": "0ce2f6a5",
   "metadata": {},
   "source": [
    "### 3.3.2 Eliminating Columns Not Beneficial for Modeling"
   ]
  },
  {
   "cell_type": "markdown",
   "id": "334feaa8",
   "metadata": {},
   "source": [
    "<strong><span style=\"color:red\">Important Note:</span></strong> The following columns do not contribute any meaningful information to the model. Removing these columns will streamline the dataframe by eliminating unnecessary data.\n",
    "\n",
    "- 'Prospect ID',\n",
    "- 'Lead Number',\n",
    "- 'Last Notable Activity'"
   ]
  },
  {
   "cell_type": "code",
   "execution_count": 30,
   "id": "980373d4",
   "metadata": {},
   "outputs": [
    {
     "name": "stdout",
     "output_type": "stream",
     "text": [
      "Before Dropping Columns (9240, 21)\n",
      "After Dropping Columns (9240, 18)\n"
     ]
    }
   ],
   "source": [
    "# Removing Columns\n",
    "print(\"Before Dropping Columns\", df_leads.shape)\n",
    "df_leads.drop(['Prospect ID', 'Lead Number', 'Last Notable Activity'], axis=1, inplace=True)\n",
    "print(\"After Dropping Columns\", df_leads.shape)"
   ]
  },
  {
   "cell_type": "code",
   "execution_count": 31,
   "id": "626bc1a2",
   "metadata": {},
   "outputs": [
    {
     "data": {
      "text/plain": [
       "0      0.0000\n",
       "6064   0.0000\n",
       "6156   0.0000\n",
       "6157   0.0000\n",
       "6158   0.0000\n",
       "6159   0.0000\n",
       "6160   0.0000\n",
       "6161   0.0000\n",
       "6162   0.0000\n",
       "6163   0.0000\n",
       "dtype: float64"
      ]
     },
     "execution_count": 31,
     "metadata": {},
     "output_type": "execute_result"
    }
   ],
   "source": [
    "# Obtaining the Percentage of Missing Values in Each Row\n",
    "100*(df_leads.isna().mean(axis=1)).sort_values(ascending=False).head(10)"
   ]
  },
  {
   "cell_type": "markdown",
   "id": "4f7d5759",
   "metadata": {},
   "source": [
    "### 3.4 Inspecting and Eliminating Skewed Categorical Columns\n",
    "<strong><span style=\"color:red\">Important Note:</span></strong> This process is analogous to addressing unique values in numerical columns."
   ]
  },
  {
   "cell_type": "code",
   "execution_count": 32,
   "id": "2122febe",
   "metadata": {},
   "outputs": [
    {
     "data": {
      "image/png": "[encoded data removed]",
      "text/plain": [
       "<Figure size 1200x4000 with 14 Axes>"
      ]
     },
     "metadata": {},
     "output_type": "display_data"
    }
   ],
   "source": [
    "# Set the style and color palette\n",
    "sns.set(style=\"whitegrid\")\n",
    "sns.set_palette(\"husl\")\n",
    "\n",
    "# Define the categorical columns\n",
    "categorical_columns = df_leads.select_dtypes(include=['category', 'object']).columns.tolist()\n",
    "\n",
    "# Plotting countplot for object dtype to visualize data distribution\n",
    "plt.figure(figsize=(12, 40))\n",
    "plt.subplots_adjust(wspace=0.2, hspace=2)\n",
    "for i, col in enumerate(categorical_columns):\n",
    "    plt.subplot(8, 2, i + 1)\n",
    "    ax = sns.countplot(x=col, data=df_leads) \n",
    "    plt.xticks(rotation=90)\n",
    "    \n",
    "    for p in ax.patches:\n",
    "        ax.annotate('{:.0f}'.format(p.get_height()), (p.get_x() + p.get_width() / 2., p.get_height()), \n",
    "                    ha='center', va='center', xytext=(0, 5), textcoords='offset points')\n",
    "\n",
    "plt.show()\n"
   ]
  },
  {
   "cell_type": "markdown",
   "id": "80d94b86",
   "metadata": {},
   "source": [
    "<strong><span style=\"color:red\">Important Note:</span></strong> The following columns have data that is highly skewed:\n",
    "\n",
    "- 'Do Not Call'\n",
    "- 'Search'\n",
    "- 'Newspaper Article'\n",
    "- 'X Education Forums'\n",
    "- 'Newspaper'\n",
    "- 'Digital Advertisement'\n",
    "- 'Through Recommendations'\n",
    "\n",
    "Due to the high skewness and the potential impact on the performance of logistic regression models, these columns will be dropped. Skewed variables can result in biased or inaccurate parameter estimates in the model."
   ]
  },
  {
   "cell_type": "code",
   "execution_count": 33,
   "id": "01a0c880",
   "metadata": {},
   "outputs": [
    {
     "name": "stdout",
     "output_type": "stream",
     "text": [
      "Before Drop:  (9240, 18)\n",
      "After Drop:  (9240, 11)\n"
     ]
    }
   ],
   "source": [
    "# Eliminating Categorical Columns with Highly Skewed Data\n",
    "print(\"Before Drop: \", df_leads.shape)\n",
    "df_leads.drop(['Do Not Call', 'Search', 'Newspaper Article', 'X Education Forums', 'Newspaper', 'Digital Advertisement', 'Through Recommendations'], axis=1, inplace=True)\n",
    "print(\"After Drop: \", df_leads.shape)"
   ]
  },
  {
   "cell_type": "code",
   "execution_count": 34,
   "id": "90b7b2c2",
   "metadata": {},
   "outputs": [
    {
     "data": {
      "text/html": [
       "<div>\n",
       "<style scoped>\n",
       "    .dataframe tbody tr th:only-of-type {\n",
       "        vertical-align: middle;\n",
       "    }\n",
       "\n",
       "    .dataframe tbody tr th {\n",
       "        vertical-align: top;\n",
       "    }\n",
       "\n",
       "    .dataframe thead th {\n",
       "        text-align: right;\n",
       "    }\n",
       "</style>\n",
       "<table border=\"1\" class=\"dataframe\">\n",
       "  <thead>\n",
       "    <tr style=\"text-align: right;\">\n",
       "      <th></th>\n",
       "      <th>Lead Origin</th>\n",
       "      <th>Lead Source</th>\n",
       "      <th>Do Not Email</th>\n",
       "      <th>Converted</th>\n",
       "      <th>TotalVisits</th>\n",
       "      <th>Total Time Spent on Website</th>\n",
       "      <th>Page Views Per Visit</th>\n",
       "      <th>Last Activity</th>\n",
       "      <th>Specialization</th>\n",
       "      <th>What is your current occupation</th>\n",
       "      <th>A free copy of Mastering The Interview</th>\n",
       "    </tr>\n",
       "  </thead>\n",
       "  <tbody>\n",
       "    <tr>\n",
       "      <th>0</th>\n",
       "      <td>API</td>\n",
       "      <td>Olark Chat</td>\n",
       "      <td>No</td>\n",
       "      <td>0</td>\n",
       "      <td>0.0000</td>\n",
       "      <td>0</td>\n",
       "      <td>0.0000</td>\n",
       "      <td>Page Visited on Website</td>\n",
       "      <td>Others</td>\n",
       "      <td>Unemployed</td>\n",
       "      <td>No</td>\n",
       "    </tr>\n",
       "    <tr>\n",
       "      <th>1</th>\n",
       "      <td>API</td>\n",
       "      <td>Organic Search</td>\n",
       "      <td>No</td>\n",
       "      <td>0</td>\n",
       "      <td>5.0000</td>\n",
       "      <td>674</td>\n",
       "      <td>2.5000</td>\n",
       "      <td>Email Opened</td>\n",
       "      <td>Others</td>\n",
       "      <td>Unemployed</td>\n",
       "      <td>No</td>\n",
       "    </tr>\n",
       "    <tr>\n",
       "      <th>2</th>\n",
       "      <td>Landing Page Submission</td>\n",
       "      <td>Direct Traffic</td>\n",
       "      <td>No</td>\n",
       "      <td>1</td>\n",
       "      <td>2.0000</td>\n",
       "      <td>1532</td>\n",
       "      <td>2.0000</td>\n",
       "      <td>Email Opened</td>\n",
       "      <td>Business Administration</td>\n",
       "      <td>Student</td>\n",
       "      <td>Yes</td>\n",
       "    </tr>\n",
       "    <tr>\n",
       "      <th>3</th>\n",
       "      <td>Landing Page Submission</td>\n",
       "      <td>Direct Traffic</td>\n",
       "      <td>No</td>\n",
       "      <td>0</td>\n",
       "      <td>1.0000</td>\n",
       "      <td>305</td>\n",
       "      <td>1.0000</td>\n",
       "      <td>Unreachable</td>\n",
       "      <td>Media and Advertising</td>\n",
       "      <td>Unemployed</td>\n",
       "      <td>No</td>\n",
       "    </tr>\n",
       "    <tr>\n",
       "      <th>4</th>\n",
       "      <td>Landing Page Submission</td>\n",
       "      <td>Google</td>\n",
       "      <td>No</td>\n",
       "      <td>1</td>\n",
       "      <td>2.0000</td>\n",
       "      <td>1428</td>\n",
       "      <td>1.0000</td>\n",
       "      <td>Converted to Lead</td>\n",
       "      <td>Others</td>\n",
       "      <td>Unemployed</td>\n",
       "      <td>No</td>\n",
       "    </tr>\n",
       "  </tbody>\n",
       "</table>\n",
       "</div>"
      ],
      "text/plain": [
       "               Lead Origin     Lead Source Do Not Email  Converted  \\\n",
       "0                      API      Olark Chat           No          0   \n",
       "1                      API  Organic Search           No          0   \n",
       "2  Landing Page Submission  Direct Traffic           No          1   \n",
       "3  Landing Page Submission  Direct Traffic           No          0   \n",
       "4  Landing Page Submission          Google           No          1   \n",
       "\n",
       "   TotalVisits  Total Time Spent on Website  Page Views Per Visit  \\\n",
       "0       0.0000                            0                0.0000   \n",
       "1       5.0000                          674                2.5000   \n",
       "2       2.0000                         1532                2.0000   \n",
       "3       1.0000                          305                1.0000   \n",
       "4       2.0000                         1428                1.0000   \n",
       "\n",
       "             Last Activity           Specialization  \\\n",
       "0  Page Visited on Website                   Others   \n",
       "1             Email Opened                   Others   \n",
       "2             Email Opened  Business Administration   \n",
       "3              Unreachable    Media and Advertising   \n",
       "4        Converted to Lead                   Others   \n",
       "\n",
       "  What is your current occupation A free copy of Mastering The Interview  \n",
       "0                      Unemployed                                     No  \n",
       "1                      Unemployed                                     No  \n",
       "2                         Student                                    Yes  \n",
       "3                      Unemployed                                     No  \n",
       "4                      Unemployed                                     No  "
      ]
     },
     "execution_count": 34,
     "metadata": {},
     "output_type": "execute_result"
    }
   ],
   "source": [
    "df_leads.head()"
   ]
  },
  {
   "cell_type": "markdown",
   "id": "5653456a",
   "metadata": {},
   "source": [
    "### Data is Now Free of Missing Values\n",
    "After successfully cleaning the data and addressing missing values, the next step is to standardize the values."
   ]
  },
  {
   "cell_type": "markdown",
   "id": "02f172dd",
   "metadata": {},
   "source": [
    "### 3.5 Analyzing Outliers"
   ]
  },
  {
   "cell_type": "code",
   "execution_count": 35,
   "id": "450c8786",
   "metadata": {},
   "outputs": [],
   "source": [
    "#Numerical \n",
    "def Check_Outliers(data, columnList):\n",
    "    plt.figure(figsize=[22, 11])\n",
    "    plt.subplots_adjust(wspace=0.4, hspace=0.5)\n",
    "\n",
    "    for i, j in enumerate(columnList):\n",
    "        plt.subplot(2, 2, i + 1)\n",
    "        sns.boxplot(y=data[j])\n",
    "        plt.title(j, fontsize=15, color='red')  # Move this line inside the loop\n",
    "\n",
    "    plt.suptitle(\"\\nChecking Outliers using Boxplot\", fontsize=20, color=\"red\")\n",
    "    plt.ylabel(None)"
   ]
  },
  {
   "cell_type": "code",
   "execution_count": 36,
   "id": "e314346e",
   "metadata": {},
   "outputs": [
    {
     "data": {
      "image/png": "[encoded data removed]",
      "text/plain": [
       "<Figure size 2200x1100 with 3 Axes>"
      ]
     },
     "metadata": {},
     "output_type": "display_data"
    }
   ],
   "source": [
    "# Checking outliers for numerical variables other than the target variable\n",
    "num_cols = [\"TotalVisits\", \"Page Views Per Visit\", \"Total Time Spent on Website\"]\n",
    "\n",
    "# Using the custom function\n",
    "Check_Outliers(df_leads, num_cols)\n"
   ]
  },
  {
   "cell_type": "markdown",
   "id": "5ce137d2",
   "metadata": {},
   "source": [
    "\n",
    "\"TotalVisits\" and \"Page Views Per Visit\" both exhibit outliers, as evident in the boxplot visualizations. To address these outliers, appropriate treatment is needed for these variables."
   ]
  },
  {
   "cell_type": "markdown",
   "id": "06434f58",
   "metadata": {},
   "source": [
    "### Limiting Outliers through Capping Treatment"
   ]
  },
  {
   "cell_type": "code",
   "execution_count": 37,
   "id": "4e406c6f",
   "metadata": {},
   "outputs": [
    {
     "data": {
      "text/html": [
       "<div>\n",
       "<style scoped>\n",
       "    .dataframe tbody tr th:only-of-type {\n",
       "        vertical-align: middle;\n",
       "    }\n",
       "\n",
       "    .dataframe tbody tr th {\n",
       "        vertical-align: top;\n",
       "    }\n",
       "\n",
       "    .dataframe thead th {\n",
       "        text-align: right;\n",
       "    }\n",
       "</style>\n",
       "<table border=\"1\" class=\"dataframe\">\n",
       "  <thead>\n",
       "    <tr style=\"text-align: right;\">\n",
       "      <th></th>\n",
       "      <th>Converted</th>\n",
       "      <th>TotalVisits</th>\n",
       "      <th>Total Time Spent on Website</th>\n",
       "      <th>Page Views Per Visit</th>\n",
       "    </tr>\n",
       "  </thead>\n",
       "  <tbody>\n",
       "    <tr>\n",
       "      <th>count</th>\n",
       "      <td>9240.0000</td>\n",
       "      <td>9240.0000</td>\n",
       "      <td>9240.0000</td>\n",
       "      <td>9240.0000</td>\n",
       "    </tr>\n",
       "    <tr>\n",
       "      <th>mean</th>\n",
       "      <td>0.3854</td>\n",
       "      <td>3.3942</td>\n",
       "      <td>487.6983</td>\n",
       "      <td>2.3278</td>\n",
       "    </tr>\n",
       "    <tr>\n",
       "      <th>std</th>\n",
       "      <td>0.4867</td>\n",
       "      <td>4.8367</td>\n",
       "      <td>548.0215</td>\n",
       "      <td>2.1643</td>\n",
       "    </tr>\n",
       "    <tr>\n",
       "      <th>min</th>\n",
       "      <td>0.0000</td>\n",
       "      <td>0.0000</td>\n",
       "      <td>0.0000</td>\n",
       "      <td>0.0000</td>\n",
       "    </tr>\n",
       "    <tr>\n",
       "      <th>10%</th>\n",
       "      <td>0.0000</td>\n",
       "      <td>0.0000</td>\n",
       "      <td>0.0000</td>\n",
       "      <td>0.0000</td>\n",
       "    </tr>\n",
       "    <tr>\n",
       "      <th>25%</th>\n",
       "      <td>0.0000</td>\n",
       "      <td>0.0000</td>\n",
       "      <td>12.0000</td>\n",
       "      <td>0.0000</td>\n",
       "    </tr>\n",
       "    <tr>\n",
       "      <th>50%</th>\n",
       "      <td>0.0000</td>\n",
       "      <td>3.0000</td>\n",
       "      <td>248.0000</td>\n",
       "      <td>2.0000</td>\n",
       "    </tr>\n",
       "    <tr>\n",
       "      <th>75%</th>\n",
       "      <td>1.0000</td>\n",
       "      <td>5.0000</td>\n",
       "      <td>936.0000</td>\n",
       "      <td>3.0000</td>\n",
       "    </tr>\n",
       "    <tr>\n",
       "      <th>95%</th>\n",
       "      <td>1.0000</td>\n",
       "      <td>10.0000</td>\n",
       "      <td>1562.0000</td>\n",
       "      <td>6.0000</td>\n",
       "    </tr>\n",
       "    <tr>\n",
       "      <th>max</th>\n",
       "      <td>1.0000</td>\n",
       "      <td>251.0000</td>\n",
       "      <td>2272.0000</td>\n",
       "      <td>55.0000</td>\n",
       "    </tr>\n",
       "  </tbody>\n",
       "</table>\n",
       "</div>"
      ],
      "text/plain": [
       "       Converted  TotalVisits  Total Time Spent on Website  \\\n",
       "count  9240.0000    9240.0000                    9240.0000   \n",
       "mean      0.3854       3.3942                     487.6983   \n",
       "std       0.4867       4.8367                     548.0215   \n",
       "min       0.0000       0.0000                       0.0000   \n",
       "10%       0.0000       0.0000                       0.0000   \n",
       "25%       0.0000       0.0000                      12.0000   \n",
       "50%       0.0000       3.0000                     248.0000   \n",
       "75%       1.0000       5.0000                     936.0000   \n",
       "95%       1.0000      10.0000                    1562.0000   \n",
       "max       1.0000     251.0000                    2272.0000   \n",
       "\n",
       "       Page Views Per Visit  \n",
       "count             9240.0000  \n",
       "mean                 2.3278  \n",
       "std                  2.1643  \n",
       "min                  0.0000  \n",
       "10%                  0.0000  \n",
       "25%                  0.0000  \n",
       "50%                  2.0000  \n",
       "75%                  3.0000  \n",
       "95%                  6.0000  \n",
       "max                 55.0000  "
      ]
     },
     "execution_count": 37,
     "metadata": {},
     "output_type": "execute_result"
    }
   ],
   "source": [
    "# Summary statistics before outlier treatment\n",
    "df_leads.describe(percentiles=[.10, .25, .50, .75, .95])"
   ]
  },
  {
   "cell_type": "code",
   "execution_count": 38,
   "id": "eac01f6c",
   "metadata": {},
   "outputs": [
    {
     "data": {
      "image/png": "[encoded data removed]",
      "text/plain": [
       "<Figure size 2200x1100 with 3 Axes>"
      ]
     },
     "metadata": {},
     "output_type": "display_data"
    }
   ],
   "source": [
    "def Outlier_treatment(df, columnList):\n",
    "    for i in columnList:\n",
    "        q1 = df[i].describe()[\"25%\"]\n",
    "        q3 = df[i].describe()[\"75%\"]\n",
    "        IQR = q3 - q1\n",
    "\n",
    "        upper_bound = q3 + 1.5 * IQR\n",
    "        lower_bound = q1 - 1.5 * IQR\n",
    "\n",
    "        # Capping upper_bound\n",
    "        df[i] = np.where(df[i] > upper_bound, upper_bound, df[i])\n",
    "\n",
    "        # Flooring lower_bound\n",
    "        df[i] = np.where(df[i] < lower_bound, lower_bound, df[i])\n",
    "\n",
    "# Checking outliers for numerical variables other than the target variable\n",
    "capping_cols = [\"TotalVisits\", \"Page Views Per Visit\"]\n",
    "\n",
    "# Using the custom function for outlier treatment\n",
    "Outlier_treatment(df_leads, capping_cols)\n",
    "\n",
    "# Checking boxplot after outlier treatment\n",
    "num_cols = [\"TotalVisits\", \"Page Views Per Visit\", \"Total Time Spent on Website\"]\n",
    "\n",
    "# Using the custom function to check for outliers\n",
    "Check_Outliers(df_leads, num_cols)"
   ]
  },
  {
   "cell_type": "code",
   "execution_count": 39,
   "id": "345a64e1",
   "metadata": {},
   "outputs": [
    {
     "data": {
      "text/html": [
       "<div>\n",
       "<style scoped>\n",
       "    .dataframe tbody tr th:only-of-type {\n",
       "        vertical-align: middle;\n",
       "    }\n",
       "\n",
       "    .dataframe tbody tr th {\n",
       "        vertical-align: top;\n",
       "    }\n",
       "\n",
       "    .dataframe thead th {\n",
       "        text-align: right;\n",
       "    }\n",
       "</style>\n",
       "<table border=\"1\" class=\"dataframe\">\n",
       "  <thead>\n",
       "    <tr style=\"text-align: right;\">\n",
       "      <th></th>\n",
       "      <th>Converted</th>\n",
       "      <th>TotalVisits</th>\n",
       "      <th>Total Time Spent on Website</th>\n",
       "      <th>Page Views Per Visit</th>\n",
       "    </tr>\n",
       "  </thead>\n",
       "  <tbody>\n",
       "    <tr>\n",
       "      <th>count</th>\n",
       "      <td>9240.0000</td>\n",
       "      <td>9240.0000</td>\n",
       "      <td>9240.0000</td>\n",
       "      <td>9240.0000</td>\n",
       "    </tr>\n",
       "    <tr>\n",
       "      <th>mean</th>\n",
       "      <td>0.3854</td>\n",
       "      <td>3.2139</td>\n",
       "      <td>487.6983</td>\n",
       "      <td>2.2750</td>\n",
       "    </tr>\n",
       "    <tr>\n",
       "      <th>std</th>\n",
       "      <td>0.4867</td>\n",
       "      <td>3.0051</td>\n",
       "      <td>548.0215</td>\n",
       "      <td>1.9178</td>\n",
       "    </tr>\n",
       "    <tr>\n",
       "      <th>min</th>\n",
       "      <td>0.0000</td>\n",
       "      <td>0.0000</td>\n",
       "      <td>0.0000</td>\n",
       "      <td>0.0000</td>\n",
       "    </tr>\n",
       "    <tr>\n",
       "      <th>10%</th>\n",
       "      <td>0.0000</td>\n",
       "      <td>0.0000</td>\n",
       "      <td>0.0000</td>\n",
       "      <td>0.0000</td>\n",
       "    </tr>\n",
       "    <tr>\n",
       "      <th>25%</th>\n",
       "      <td>0.0000</td>\n",
       "      <td>0.0000</td>\n",
       "      <td>12.0000</td>\n",
       "      <td>0.0000</td>\n",
       "    </tr>\n",
       "    <tr>\n",
       "      <th>50%</th>\n",
       "      <td>0.0000</td>\n",
       "      <td>3.0000</td>\n",
       "      <td>248.0000</td>\n",
       "      <td>2.0000</td>\n",
       "    </tr>\n",
       "    <tr>\n",
       "      <th>75%</th>\n",
       "      <td>1.0000</td>\n",
       "      <td>5.0000</td>\n",
       "      <td>936.0000</td>\n",
       "      <td>3.0000</td>\n",
       "    </tr>\n",
       "    <tr>\n",
       "      <th>95%</th>\n",
       "      <td>1.0000</td>\n",
       "      <td>10.0000</td>\n",
       "      <td>1562.0000</td>\n",
       "      <td>6.0000</td>\n",
       "    </tr>\n",
       "    <tr>\n",
       "      <th>max</th>\n",
       "      <td>1.0000</td>\n",
       "      <td>12.5000</td>\n",
       "      <td>2272.0000</td>\n",
       "      <td>7.5000</td>\n",
       "    </tr>\n",
       "  </tbody>\n",
       "</table>\n",
       "</div>"
      ],
      "text/plain": [
       "       Converted  TotalVisits  Total Time Spent on Website  \\\n",
       "count  9240.0000    9240.0000                    9240.0000   \n",
       "mean      0.3854       3.2139                     487.6983   \n",
       "std       0.4867       3.0051                     548.0215   \n",
       "min       0.0000       0.0000                       0.0000   \n",
       "10%       0.0000       0.0000                       0.0000   \n",
       "25%       0.0000       0.0000                      12.0000   \n",
       "50%       0.0000       3.0000                     248.0000   \n",
       "75%       1.0000       5.0000                     936.0000   \n",
       "95%       1.0000      10.0000                    1562.0000   \n",
       "max       1.0000      12.5000                    2272.0000   \n",
       "\n",
       "       Page Views Per Visit  \n",
       "count             9240.0000  \n",
       "mean                 2.2750  \n",
       "std                  1.9178  \n",
       "min                  0.0000  \n",
       "10%                  0.0000  \n",
       "25%                  0.0000  \n",
       "50%                  2.0000  \n",
       "75%                  3.0000  \n",
       "95%                  6.0000  \n",
       "max                  7.5000  "
      ]
     },
     "execution_count": 39,
     "metadata": {},
     "output_type": "execute_result"
    }
   ],
   "source": [
    "# Summary statistics after outlier treatment with detailed percentile values\n",
    "df_leads.describe(percentiles=[.10, .25, .50, .75, .95])"
   ]
  },
  {
   "cell_type": "markdown",
   "id": "087c011b",
   "metadata": {},
   "source": [
    "### 3.6 Correcting Invalid Values and Standardizing Data in Columns\n",
    "This step involves the following:\n",
    "\n",
    "- Verifying if entries in the data are in the correct format.\n",
    "- Standardizing casing styles (UPPER, lower).\n",
    "- Reviewing and ensuring the correct data types for columns."
   ]
  },
  {
   "cell_type": "code",
   "execution_count": 40,
   "id": "5bac9045",
   "metadata": {},
   "outputs": [
    {
     "name": "stdout",
     "output_type": "stream",
     "text": [
      "Value Counts % for: Lead Origin \n",
      "\n",
      "Landing Page Submission   52.8788\n",
      "API                       38.7446\n",
      "Lead Add Form              7.7706\n",
      "Lead Import                0.5952\n",
      "Quick Add Form             0.0108\n",
      "Name: Lead Origin, dtype: float64 \n",
      "\n",
      "_^__^__^__^__^__^__^__^__^__^__^__^__^__^__^__^__^__^__^__^__^__^__^__^__^__^__^__^__^__^__^__^__^__^__^__^__^__^__^__^_ \n",
      "\n",
      "Value Counts % for: Lead Source \n",
      "\n",
      "Google              31.4286\n",
      "Direct Traffic      27.5216\n",
      "Olark Chat          18.9935\n",
      "Organic Search      12.4892\n",
      "Reference            5.7792\n",
      "Welingak Website     1.5368\n",
      "Referral Sites       1.3528\n",
      "Facebook             0.5952\n",
      "bing                 0.0649\n",
      "google               0.0541\n",
      "Click2call           0.0433\n",
      "Press_Release        0.0216\n",
      "Social Media         0.0216\n",
      "Live Chat            0.0216\n",
      "youtubechannel       0.0108\n",
      "testone              0.0108\n",
      "Pay per Click Ads    0.0108\n",
      "welearnblog_Home     0.0108\n",
      "WeLearn              0.0108\n",
      "blog                 0.0108\n",
      "NC_EDM               0.0108\n",
      "Name: Lead Source, dtype: float64 \n",
      "\n",
      "_^__^__^__^__^__^__^__^__^__^__^__^__^__^__^__^__^__^__^__^__^__^__^__^__^__^__^__^__^__^__^__^__^__^__^__^__^__^__^__^_ \n",
      "\n",
      "Value Counts % for: Do Not Email \n",
      "\n",
      "No    92.0563\n",
      "Yes    7.9437\n",
      "Name: Do Not Email, dtype: float64 \n",
      "\n",
      "_^__^__^__^__^__^__^__^__^__^__^__^__^__^__^__^__^__^__^__^__^__^__^__^__^__^__^__^__^__^__^__^__^__^__^__^__^__^__^__^_ \n",
      "\n",
      "Value Counts % for: Last Activity \n",
      "\n",
      "Email Opened                   38.3117\n",
      "SMS Sent                       29.7078\n",
      "Olark Chat Conversation        10.5303\n",
      "Page Visited on Website         6.9264\n",
      "Converted to Lead               4.6320\n",
      "Email Bounced                   3.5281\n",
      "Email Link Clicked              2.8896\n",
      "Form Submitted on Website       1.2554\n",
      "Unreachable                     1.0065\n",
      "Unsubscribed                    0.6602\n",
      "Had a Phone Conversation        0.3247\n",
      "Approached upfront              0.0974\n",
      "View in browser link Clicked    0.0649\n",
      "Email Received                  0.0216\n",
      "Email Marked Spam               0.0216\n",
      "Visited Booth in Tradeshow      0.0108\n",
      "Resubscribed to emails          0.0108\n",
      "Name: Last Activity, dtype: float64 \n",
      "\n",
      "_^__^__^__^__^__^__^__^__^__^__^__^__^__^__^__^__^__^__^__^__^__^__^__^__^__^__^__^__^__^__^__^__^__^__^__^__^__^__^__^_ \n",
      "\n",
      "Value Counts % for: Specialization \n",
      "\n",
      "Others                              36.5801\n",
      "Finance Management                  10.5628\n",
      "Human Resource Management            9.1775\n",
      "Marketing Management                 9.0693\n",
      "Operations Management                5.4437\n",
      "Business Administration              4.3615\n",
      "IT Projects Management               3.9610\n",
      "Supply Chain Management              3.7771\n",
      "Banking, Investment And Insurance    3.6580\n",
      "Travel and Tourism                   2.1970\n",
      "Media and Advertising                2.1970\n",
      "International Business               1.9264\n",
      "Healthcare Management                1.7208\n",
      "Hospitality Management               1.2338\n",
      "E-COMMERCE                           1.2121\n",
      "Retail Management                    1.0823\n",
      "Rural and Agribusiness               0.7900\n",
      "E-Business                           0.6169\n",
      "Services Excellence                  0.4329\n",
      "Name: Specialization, dtype: float64 \n",
      "\n",
      "_^__^__^__^__^__^__^__^__^__^__^__^__^__^__^__^__^__^__^__^__^__^__^__^__^__^__^__^__^__^__^__^__^__^__^__^__^__^__^__^_ \n",
      "\n",
      "Value Counts % for: What is your current occupation \n",
      "\n",
      "Unemployed             89.7186\n",
      "Working Professional    7.6407\n",
      "Student                 2.2727\n",
      "Other                   0.1732\n",
      "Housewife               0.1082\n",
      "Businessman             0.0866\n",
      "Name: What is your current occupation, dtype: float64 \n",
      "\n",
      "_^__^__^__^__^__^__^__^__^__^__^__^__^__^__^__^__^__^__^__^__^__^__^__^__^__^__^__^__^__^__^__^__^__^__^__^__^__^__^__^_ \n",
      "\n",
      "Value Counts % for: A free copy of Mastering The Interview \n",
      "\n",
      "No    68.7446\n",
      "Yes   31.2554\n",
      "Name: A free copy of Mastering The Interview, dtype: float64 \n",
      "\n",
      "_^__^__^__^__^__^__^__^__^__^__^__^__^__^__^__^__^__^__^__^__^__^__^__^__^__^__^__^__^__^__^__^__^__^__^__^__^__^__^__^_ \n",
      "\n"
     ]
    }
   ],
   "source": [
    "#Categorical\n",
    "columnsList_cat = [\"Lead Origin\", \"Lead Source\", \"Do Not Email\", \"Last Activity\", \"Specialization\",\n",
    "                  \"What is your current occupation\", \"A free copy of Mastering The Interview\"]\n",
    "\n",
    "for i in columnsList_cat:\n",
    "    perc = 100 * df_leads[i].value_counts(normalize=True)\n",
    "    print(\"Value Counts % for:\", i, \"\\n\")\n",
    "    print(perc, \"\\n\")\n",
    "    print(\"_^_\" * 40, \"\\n\")\n"
   ]
  },
  {
   "cell_type": "markdown",
   "id": "c4fb2ce0",
   "metadata": {},
   "source": [
    "<strong><span style=\"color:red\">Important Note:</span></strong> \n",
    "\n",
    "Some categories/levels in the \"Lead Score\" and \"Last Activity\" columns have very few records. To prevent having too many unnecessary columns when creating dummy variables, it's recommended to group these categories together under \"Others.\"\n",
    "\n",
    "In the \"Lead Source\" column, \"Google\" and \"google\" should be treated as the same category, so we will standardize the case to ensure consistency."
   ]
  },
  {
   "cell_type": "markdown",
   "id": "1978dee4",
   "metadata": {},
   "source": [
    "#### 3.6.1 Grouping Low frequency values"
   ]
  },
  {
   "cell_type": "code",
   "execution_count": 41,
   "id": "676b5ddc",
   "metadata": {},
   "outputs": [],
   "source": [
    "# Grouping low-frequency value levels to \"Others\" in the \"Lead Source\" column\n",
    "df_leads['Lead Source'] = df_leads['Lead Source'].replace([\"bing\", \"Click2call\", \"Press_Release\", \"Social Media\", \"Live Chat\", \"youtubechannel\",\n",
    "                                                           \"testone\", \"Pay per Click Ads\", \"welearnblog_Home\", \"WeLearn\", \"blog\", \"NC_EDM\"], \"Others\")\n",
    "\n",
    "# Standardizing \"google\" to \"Google\" in the \"Lead Source\" column\n",
    "df_leads['Lead Source'] = df_leads['Lead Source'].replace(\"google\", \"Google\")\n"
   ]
  },
  {
   "cell_type": "code",
   "execution_count": 42,
   "id": "44357c43",
   "metadata": {},
   "outputs": [
    {
     "data": {
      "text/plain": [
       "Google             31.4827\n",
       "Direct Traffic     27.5216\n",
       "Olark Chat         18.9935\n",
       "Organic Search     12.4892\n",
       "Reference           5.7792\n",
       "Welingak Website    1.5368\n",
       "Referral Sites      1.3528\n",
       "Facebook            0.5952\n",
       "Others              0.2489\n",
       "Name: Lead Source, dtype: float64"
      ]
     },
     "execution_count": 42,
     "metadata": {},
     "output_type": "execute_result"
    }
   ],
   "source": [
    "# Displaying the value counts percentage after the replacements\n",
    "df_leads[\"Lead Source\"].value_counts(normalize=True) * 100"
   ]
  },
  {
   "cell_type": "code",
   "execution_count": 43,
   "id": "224ce02e",
   "metadata": {},
   "outputs": [],
   "source": [
    "# Grouping low-frequency value levels to \"Others\" in the \"Last Activity\" column\n",
    "df_leads['Last Activity'] = df_leads['Last Activity'].replace(['Unreachable', 'Unsubscribed', 'Had a Phone Conversation', \n",
    "                                                           'Approached upfront', 'View in browser link Clicked',       \n",
    "                                                           'Email Marked Spam', 'Email Received', 'Visited Booth in Tradeshow',\n",
    "                                                           'Resubscribed to emails'], 'Others')"
   ]
  },
  {
   "cell_type": "code",
   "execution_count": 44,
   "id": "fff505ca",
   "metadata": {},
   "outputs": [
    {
     "data": {
      "text/plain": [
       "Email Opened                38.3117\n",
       "SMS Sent                    29.7078\n",
       "Olark Chat Conversation     10.5303\n",
       "Page Visited on Website      6.9264\n",
       "Converted to Lead            4.6320\n",
       "Email Bounced                3.5281\n",
       "Email Link Clicked           2.8896\n",
       "Others                       2.2186\n",
       "Form Submitted on Website    1.2554\n",
       "Name: Last Activity, dtype: float64"
      ]
     },
     "execution_count": 44,
     "metadata": {},
     "output_type": "execute_result"
    }
   ],
   "source": [
    "# Displaying the value counts percentage after the replacements in the \"Last Activity\" column\n",
    "df_leads['Last Activity'].value_counts(normalize=True) * 100"
   ]
  },
  {
   "cell_type": "code",
   "execution_count": 45,
   "id": "bed19cd2",
   "metadata": {},
   "outputs": [],
   "source": [
    "# Renaming the column name to \"Free_copy\" from \"A free copy of Mastering The Interview\"\n",
    "df_leads.rename(columns={'A free copy of Mastering The Interview': 'Free_copy'}, inplace=True)\n",
    "\n",
    "# Renaming the column name to \"Current_occupation\" from \"What is your current occupationA free copy of Mastering The Interview\"\n",
    "df_leads.rename(columns={'What is your current occupation': 'Current_occupation'}, inplace=True)\n"
   ]
  },
  {
   "cell_type": "markdown",
   "id": "cb475406",
   "metadata": {},
   "source": [
    "<strong><span style=\"color:red\">Important Note:</span></strong> \n",
    "\n",
    "Both \"Do Not Email\" and \"Free_copy\" are binary categorical columns. To standardize them, we will map \"yes\" to 1 and \"no\" to 0."
   ]
  },
  {
   "cell_type": "code",
   "execution_count": 46,
   "id": "2409694a",
   "metadata": {},
   "outputs": [],
   "source": [
    "# Mapping binary categorical variables (Yes/No to 1/0)\n",
    "df_leads['Do Not Email'] = df_leads['Do Not Email'].apply(lambda x: 1 if x == 'Yes' else 0)\n",
    "\n",
    "df_leads['Free_copy'] = df_leads['Free_copy'].apply(lambda x: 1 if x == 'Yes' else 0)"
   ]
  },
  {
   "cell_type": "code",
   "execution_count": 47,
   "id": "bcd50d57",
   "metadata": {},
   "outputs": [
    {
     "name": "stdout",
     "output_type": "stream",
     "text": [
      "<class 'pandas.core.frame.DataFrame'>\n",
      "RangeIndex: 9240 entries, 0 to 9239\n",
      "Data columns (total 11 columns):\n",
      " #   Column                       Non-Null Count  Dtype  \n",
      "---  ------                       --------------  -----  \n",
      " 0   Lead Origin                  9240 non-null   object \n",
      " 1   Lead Source                  9240 non-null   object \n",
      " 2   Do Not Email                 9240 non-null   int64  \n",
      " 3   Converted                    9240 non-null   int64  \n",
      " 4   TotalVisits                  9240 non-null   float64\n",
      " 5   Total Time Spent on Website  9240 non-null   int64  \n",
      " 6   Page Views Per Visit         9240 non-null   float64\n",
      " 7   Last Activity                9240 non-null   object \n",
      " 8   Specialization               9240 non-null   object \n",
      " 9   Current_occupation           9240 non-null   object \n",
      " 10  Free_copy                    9240 non-null   int64  \n",
      "dtypes: float64(2), int64(4), object(5)\n",
      "memory usage: 794.2+ KB\n"
     ]
    }
   ],
   "source": [
    "df_leads.info()"
   ]
  },
  {
   "cell_type": "markdown",
   "id": "101d3bd5",
   "metadata": {},
   "source": [
    "<strong><span style=\"color:red\">Important Note:</span></strong>\n",
    "The data types appear to be suitable, and no modifications are necessary."
   ]
  },
  {
   "cell_type": "markdown",
   "id": "73dd4e22",
   "metadata": {},
   "source": [
    "## <strong><span style=\"color:red\">Step 4: Data Analysis (EDA)</span></strong>\n"
   ]
  },
  {
   "cell_type": "code",
   "execution_count": null,
   "id": "0616e00e",
   "metadata": {},
   "outputs": [],
   "source": []
  }
 ],
 "metadata": {
  "kernelspec": {
   "display_name": "Python 3 (ipykernel)",
   "language": "python",
   "name": "python3"
  },
  "language_info": {
   "codemirror_mode": {
    "name": "ipython",
    "version": 3
   },
   "file_extension": ".py",
   "mimetype": "text/x-python",
   "name": "python",
   "nbconvert_exporter": "python",
   "pygments_lexer": "ipython3",
   "version": "3.9.13"
  }
 },
 "nbformat": 4,
 "nbformat_minor": 5
}
