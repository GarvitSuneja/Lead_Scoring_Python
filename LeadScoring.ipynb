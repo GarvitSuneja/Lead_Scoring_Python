{
 "cells": [
  {
   "cell_type": "markdown",
   "id": "1faa62ee",
   "metadata": {},
   "source": [
    "# Lead Scoring Case Study"
   ]
  },
  {
   "cell_type": "markdown",
   "id": "b3860ee4",
   "metadata": {},
   "source": [
    "## <strong><span style=\"color:red\">Step 1: Importing Libraries and Data</span></strong>"
   ]
  },
  {
   "cell_type": "markdown",
   "id": "fe134a87",
   "metadata": {},
   "source": [
    "### 1.1 Import Libraries, Suppress Warnings and Set Display"
   ]
  },
  {
   "cell_type": "code",
   "execution_count": 1,
   "id": "a853d0a8",
   "metadata": {},
   "outputs": [],
   "source": [
    "# Import required libraries\n",
    "import pandas as pd\n",
    "import numpy as np\n",
    "import matplotlib.pyplot as plt\n",
    "import seaborn as sns\n",
    "\n",
    "# Suppress warnings\n",
    "import warnings\n",
    "warnings.filterwarnings(\"ignore\")\n",
    "\n",
    "# Import Scikit-learn libraries\n",
    "from sklearn.model_selection import train_test_split\n",
    "from sklearn.preprocessing import StandardScaler, MinMaxScaler\n",
    "from sklearn import metrics, linear_model\n",
    "from sklearn.feature_selection import RFE\n",
    "from sklearn.metrics import precision_score, recall_score, precision_recall_curve, f1_score\n",
    "\n",
    "# Import statsmodel libraries\n",
    "from statsmodels.stats.outliers_influence import variance_inflation_factor\n",
    "import statsmodels.api as sm\n"
   ]
  },
  {
   "cell_type": "code",
   "execution_count": 2,
   "id": "0115b0bc",
   "metadata": {},
   "outputs": [],
   "source": [
    "# Environment settings\n",
    "import pandas as pd\n",
    "\n",
    "pd.set_option(\"display.max_columns\", None)  # Display all columns\n",
    "pd.set_option(\"display.max_rows\", None)     # Display all rows\n",
    "pd.set_option('display.width', None)        # Remove width limit for column display\n",
    "pd.set_option('display.float_format', lambda x: '%.4f' % x)"
   ]
  },
  {
   "cell_type": "code",
   "execution_count": null,
   "id": "b84b7374",
   "metadata": {},
   "outputs": [],
   "source": []
  }
 ],
 "metadata": {
  "kernelspec": {
   "display_name": "Python 3 (ipykernel)",
   "language": "python",
   "name": "python3"
  },
  "language_info": {
   "codemirror_mode": {
    "name": "ipython",
    "version": 3
   },
   "file_extension": ".py",
   "mimetype": "text/x-python",
   "name": "python",
   "nbconvert_exporter": "python",
   "pygments_lexer": "ipython3",
   "version": "3.9.13"
  }
 },
 "nbformat": 4,
 "nbformat_minor": 5
}
